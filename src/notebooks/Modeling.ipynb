{
 "cells": [
  {
   "cell_type": "code",
   "execution_count": 2,
   "metadata": {},
   "outputs": [
    {
     "name": "stderr",
     "output_type": "stream",
     "text": [
      "Using TensorFlow backend.\n"
     ]
    }
   ],
   "source": [
    "import numpy as np\n",
    "import pandas as pd\n",
    "import matplotlib.pyplot as plt\n",
    "import seaborn as sns; sns.set(style=\"ticks\", color_codes=True)\n",
    "plt.style.use('ggplot')\n",
    "import researchpy as rp\n",
    "from scipy import stats\n",
    "%matplotlib inline\n",
    "import statsmodels.api as sm\n",
    "from sklearn.model_selection import train_test_split\n",
    "from statsmodels.discrete.discrete_model import Logit\n",
    "from statsmodels.tools import add_constant\n",
    "from sklearn.linear_model import LogisticRegression, SGDClassifier\n",
    "from sklearn.ensemble import RandomForestClassifier, GradientBoostingClassifier\n",
    "from sklearn.datasets import make_classification\n",
    "from sklearn.metrics import confusion_matrix, accuracy_score, roc_auc_score, precision_score, recall_score, precision_recall_fscore_support, f1_score\n",
    "from sklearn.neighbors import KNeighborsClassifier\n",
    "from sklearn.preprocessing import StandardScaler\n",
    "from imblearn.over_sampling import SMOTE, ADASYN\n",
    "from imblearn.under_sampling import NearMiss\n",
    "%run '/Users/claudiostaub/galvanize/capstones/Predicting_Hospital_Readmissions/src/models.py'"
   ]
  },
  {
   "cell_type": "code",
   "execution_count": 4,
   "metadata": {},
   "outputs": [
    {
     "data": {
      "text/plain": [
       "Index(['Unnamed: 0', 'encounter_id', 'patient_nbr', 'age', 'admission_type_id',\n",
       "       'discharge_disposition_id', 'admission_source_id', 'time_in_hospital',\n",
       "       'num_lab_procedures', 'num_procedures', 'num_medications',\n",
       "       'number_outpatient', 'number_emergency', 'number_inpatient',\n",
       "       'number_diagnoses', 'change', 'race_AfricanAmerican', 'race_Asian',\n",
       "       'race_Caucasian', 'race_Hispanic', 'race_Other', 'gender_1',\n",
       "       'gender_Unknown/Invalid', 'max_glu_serum_>300', 'max_glu_serum_None',\n",
       "       'max_glu_serum_Norm', 'A1Cresult_>8', 'A1Cresult_None',\n",
       "       'A1Cresult_Norm', 'metformin_No', 'metformin_Steady', 'metformin_Up',\n",
       "       'repaglinide_No', 'repaglinide_Steady', 'repaglinide_Up',\n",
       "       'nateglinide_No', 'nateglinide_Steady', 'nateglinide_Up',\n",
       "       'chlorpropamide_No', 'chlorpropamide_Steady', 'chlorpropamide_Up',\n",
       "       'glimepiride_No', 'glimepiride_Steady', 'glimepiride_Up',\n",
       "       'acetohexamide_Steady', 'glipizide_No', 'glipizide_Steady',\n",
       "       'glipizide_Up', 'glyburide_No', 'glyburide_Steady', 'glyburide_Up',\n",
       "       'tolbutamide_Steady', 'pioglitazone_No', 'pioglitazone_Steady',\n",
       "       'pioglitazone_Up', 'rosiglitazone_No', 'rosiglitazone_Steady',\n",
       "       'rosiglitazone_Up', 'acarbose_No', 'acarbose_Steady', 'acarbose_Up',\n",
       "       'miglitol_No', 'miglitol_Steady', 'miglitol_Up', 'troglitazone_Steady',\n",
       "       'tolazamide_Steady', 'insulin_No', 'insulin_Steady', 'insulin_Up',\n",
       "       'glyburide-metformin_No', 'glyburide-metformin_Steady',\n",
       "       'glyburide-metformin_Up', 'glipizide-metformin_Steady',\n",
       "       'glimepiride-pioglitazone_Steady', 'metformin-rosiglitazone_Steady',\n",
       "       'metformin-pioglitazone_Steady', 'diabetesMed_Yes', 'readmit_True'],\n",
       "      dtype='object')"
      ]
     },
     "execution_count": 4,
     "metadata": {},
     "output_type": "execute_result"
    }
   ],
   "source": [
    "df = pd.read_csv('/Users/claudiostaub/galvanize/capstones/Predicting_Hospital_Readmissions/data/clean_df')\n",
    "df.columns"
   ]
  },
  {
   "cell_type": "code",
   "execution_count": 27,
   "metadata": {},
   "outputs": [],
   "source": [
    "df.drop(['Unnamed: 0', 'encounter_id', 'patient_nbr'], axis=1, inplace=True)\n",
    "df.rename(columns={'readmit_True':'readmit'}, inplace=True)"
   ]
  },
  {
   "cell_type": "markdown",
   "metadata": {},
   "source": [
    "### Base Models and feature set"
   ]
  },
  {
   "cell_type": "code",
   "execution_count": 133,
   "metadata": {},
   "outputs": [
    {
     "data": {
      "text/plain": [
       "0    83900\n",
       "1    10763\n",
       "Name: readmit, dtype: int64"
      ]
     },
     "execution_count": 133,
     "metadata": {},
     "output_type": "execute_result"
    }
   ],
   "source": [
    "# X = np.array(df.drop('readmit', axis=1).values)\n",
    "# y  = np.array(df[['readmit']])\n",
    "\n",
    "X = df.drop('readmit', axis=1)\n",
    "y  = df['readmit']\n",
    "\n",
    "\n",
    "df['readmit'].value_counts()"
   ]
  },
  {
   "cell_type": "code",
   "execution_count": 198,
   "metadata": {},
   "outputs": [],
   "source": [
    "X_train, X_test, y_train, y_test = train_test_split(X, y, test_size=0.20, random_state=0)"
   ]
  },
  {
   "cell_type": "markdown",
   "metadata": {},
   "source": [
    "The value_counts clearly shows an imbalanced dataset which is to be expected in hospital readmissions. There are a number of ways to deal with imbalanced data and we will discuss some of the techniques below. \n",
    "To get a baseline, we will run a Logistic Regression model without applying any of these techniques. "
   ]
  },
  {
   "cell_type": "code",
   "execution_count": 199,
   "metadata": {},
   "outputs": [
    {
     "name": "stdout",
     "output_type": "stream",
     "text": [
      "[[16698    34]\n",
      " [ 2168    33]]\n"
     ]
    }
   ],
   "source": [
    "\n",
    "lr1 = LogisticRegression(solver='liblinear').fit(X_train, y_train)\n",
    "y_pred = lr1.predict(X_test)\n",
    "\n",
    "conf1 = confusion_matrix(y_test, y_pred)\n",
    "print(conf1)\n",
    "# '''\n",
    "# [TN | FP\n",
    "# ____|___\n",
    "#     |\n",
    "#  FN | TP]\n",
    "# '''"
   ]
  },
  {
   "cell_type": "code",
   "execution_count": 200,
   "metadata": {},
   "outputs": [
    {
     "data": {
      "text/plain": [
       "0.8836951354777373"
      ]
     },
     "execution_count": 200,
     "metadata": {},
     "output_type": "execute_result"
    }
   ],
   "source": [
    "accuracy_score(y_pred, y_test)"
   ]
  },
  {
   "cell_type": "markdown",
   "metadata": {},
   "source": [
    "Confusion Matrix shows a lot of False Negatives. The model missed about 99% of the readmitted patients. This is an artifact of attempting to fit a model on imbalanced data. \n",
    "\n",
    "Accuracy is not the metric to use in assessing models built on imbalanced data sets as you will always get a false high score. "
   ]
  },
  {
   "cell_type": "code",
   "execution_count": 201,
   "metadata": {},
   "outputs": [
    {
     "name": "stdout",
     "output_type": "stream",
     "text": [
      "AUC:0.506\n",
      "recall:0.015\n",
      "precision:0.493\n",
      "specificity:0.998\n",
      "prevalence:0.116\n",
      " \n",
      "0.029100529100529102\n"
     ]
    }
   ],
   "source": [
    "lr1_auc, lr1_recall, lr1_precision, lr1_specificity, \\\n",
    "    lr1_prevalence = print_report(y_test, y_pred, 0.5)\n",
    "print(f1_score(y_test, y_pred))"
   ]
  },
  {
   "cell_type": "code",
   "execution_count": 204,
   "metadata": {},
   "outputs": [
    {
     "name": "stderr",
     "output_type": "stream",
     "text": [
      "/Users/claudiostaub/anaconda3/lib/python3.7/site-packages/sklearn/ensemble/forest.py:246: FutureWarning: The default value of n_estimators will change from 10 in version 0.20 to 100 in 0.22.\n",
      "  \"10 in version 0.20 to 100 in 0.22.\", FutureWarning)\n"
     ]
    },
    {
     "data": {
      "text/plain": [
       "array([[16650,    82],\n",
       "       [ 2174,    27]])"
      ]
     },
     "execution_count": 204,
     "metadata": {},
     "output_type": "execute_result"
    }
   ],
   "source": [
    "rf1 = RandomForestClassifier().fit(X_train, y_train)\n",
    "y_pred_rf = rf1.predict(X_test)\n",
    "confusion_matrix(y_test, y_pred_rf)"
   ]
  },
  {
   "cell_type": "code",
   "execution_count": 205,
   "metadata": {},
   "outputs": [
    {
     "name": "stdout",
     "output_type": "stream",
     "text": [
      "AUC:0.504\n",
      "recall:0.012\n",
      "precision:0.248\n",
      "specificity:0.995\n",
      "prevalence:0.116\n",
      " \n",
      "0.023376623376623374\n"
     ]
    }
   ],
   "source": [
    "rf1_auc, rf1_recall, rf1_precision, rf1_specificity, \\\n",
    "    rf1_prevalence = print_report(y_test, y_pred_rf, 0.5)\n",
    "print(f1_score(y_test, y_pred_rf))"
   ]
  },
  {
   "cell_type": "markdown",
   "metadata": {},
   "source": [
    "#### Resampling Upsample"
   ]
  },
  {
   "cell_type": "code",
   "execution_count": 140,
   "metadata": {},
   "outputs": [],
   "source": [
    "from sklearn.utils import resample"
   ]
  },
  {
   "cell_type": "code",
   "execution_count": 146,
   "metadata": {},
   "outputs": [
    {
     "data": {
      "text/plain": [
       "(75730, 75)"
      ]
     },
     "execution_count": 146,
     "metadata": {},
     "output_type": "execute_result"
    }
   ],
   "source": [
    "upsampled = pd.concat([X_train, pd.Series(y_train)], axis=1)\n",
    "upsampled.shape\n"
   ]
  },
  {
   "cell_type": "code",
   "execution_count": 148,
   "metadata": {},
   "outputs": [
    {
     "data": {
      "text/plain": [
       "1    67168\n",
       "0    67168\n",
       "Name: readmit, dtype: int64"
      ]
     },
     "execution_count": 148,
     "metadata": {},
     "output_type": "execute_result"
    }
   ],
   "source": [
    "readmit = upsampled[upsampled.readmit == True]\n",
    "negative = upsampled[upsampled.readmit == False]\n",
    "# print(readmit.shape, negative.shape)\n",
    "readmit_upsampled = resample(readmit, \n",
    "                            replace=True,\n",
    "                            n_samples=len(negative),\n",
    "                            random_state=27)\n",
    "\n",
    "upsampled = pd.concat([negative, readmit_upsampled], axis=0)\n",
    "upsampled.readmit.value_counts()"
   ]
  },
  {
   "cell_type": "code",
   "execution_count": 150,
   "metadata": {},
   "outputs": [],
   "source": [
    "y_train1 = upsampled.readmit\n",
    "X_train1 = upsampled.drop('readmit', axis=1)\n",
    "\n",
    "lr_up = LogisticRegression(solver='liblinear').fit(X_train1, y_train1)\n",
    "lr_up_pred = lr_up.predict(X_test)\n"
   ]
  },
  {
   "cell_type": "code",
   "execution_count": 151,
   "metadata": {},
   "outputs": [
    {
     "name": "stdout",
     "output_type": "stream",
     "text": [
      "AUC:0.593\n",
      "recall:0.507\n",
      "precision:0.172\n",
      "specificity:0.680\n",
      "prevalence:0.116\n",
      " \n",
      "0.2572977962386062\n"
     ]
    }
   ],
   "source": [
    "lr_up_auc, lr_up_recall, lr_up_precision, lr_up_specificity, \\\n",
    "    lr_up_rf1_prevalence = print_report(y_test, lr_up_pred, 0.5)\n",
    "print(f1_score(y_test, lr_up_pred))"
   ]
  },
  {
   "cell_type": "code",
   "execution_count": 152,
   "metadata": {},
   "outputs": [
    {
     "name": "stderr",
     "output_type": "stream",
     "text": [
      "/Users/claudiostaub/anaconda3/lib/python3.7/site-packages/sklearn/ensemble/forest.py:246: FutureWarning: The default value of n_estimators will change from 10 in version 0.20 to 100 in 0.22.\n",
      "  \"10 in version 0.20 to 100 in 0.22.\", FutureWarning)\n"
     ]
    },
    {
     "name": "stdout",
     "output_type": "stream",
     "text": [
      "AUC:0.511\n",
      "recall:0.040\n",
      "precision:0.233\n",
      "specificity:0.983\n",
      "prevalence:0.116\n",
      " \n",
      "0.06757281553398059\n"
     ]
    }
   ],
   "source": [
    "rf_up = RandomForestClassifier().fit(X_train1, y_train1)\n",
    "rf_up_pred = rf_up.predict(X_test)\n",
    "rf_up_auc, rf_up_recall, rf_up_precision, rf_up_specificity, \\\n",
    "    rf_up_prevalence = print_report(y_test, rf_up_pred, 0.5)\n",
    "print(f1_score(y_test, rf_up_pred))"
   ]
  },
  {
   "cell_type": "markdown",
   "metadata": {},
   "source": [
    "#### Resampling Downsampling"
   ]
  },
  {
   "cell_type": "code",
   "execution_count": 157,
   "metadata": {},
   "outputs": [
    {
     "data": {
      "text/plain": [
       "(75730, 75)"
      ]
     },
     "execution_count": 157,
     "metadata": {},
     "output_type": "execute_result"
    }
   ],
   "source": [
    "downsampled = pd.concat([X_train, pd.Series(y_train)], axis=1)\n",
    "downsampled.shape\n"
   ]
  },
  {
   "cell_type": "code",
   "execution_count": 159,
   "metadata": {},
   "outputs": [
    {
     "name": "stdout",
     "output_type": "stream",
     "text": [
      "(8562, 75) (67168, 75)\n"
     ]
    },
    {
     "data": {
      "text/plain": [
       "1    8562\n",
       "0    8562\n",
       "Name: readmit, dtype: int64"
      ]
     },
     "execution_count": 159,
     "metadata": {},
     "output_type": "execute_result"
    }
   ],
   "source": [
    "readmit = downsampled[downsampled.readmit == True]\n",
    "negative = downsampled[downsampled.readmit == False]\n",
    "print(readmit.shape, negative.shape)\n",
    "negative_downsampled = resample(negative, \n",
    "                            replace=False,\n",
    "                            n_samples=len(readmit),\n",
    "                            random_state=27)\n",
    "\n",
    "downsampled = pd.concat([readmit, negative_downsampled], axis=0)\n",
    "downsampled.readmit.value_counts()"
   ]
  },
  {
   "cell_type": "code",
   "execution_count": 160,
   "metadata": {},
   "outputs": [],
   "source": [
    "y_train2 = downsampled.readmit\n",
    "X_train2 = downsampled.drop('readmit', axis=1)\n",
    "\n",
    "lr_down = LogisticRegression(solver='liblinear').fit(X_train2, y_train2)\n",
    "lr_down_pred = lr_down.predict(X_test)\n"
   ]
  },
  {
   "cell_type": "code",
   "execution_count": 161,
   "metadata": {},
   "outputs": [
    {
     "name": "stdout",
     "output_type": "stream",
     "text": [
      "AUC:0.591\n",
      "recall:0.502\n",
      "precision:0.171\n",
      "specificity:0.679\n",
      "prevalence:0.116\n",
      " \n",
      "0.2549562010142923\n"
     ]
    }
   ],
   "source": [
    "lr_down_auc, lr_down_recall, lr_down_precision, lr_down_specificity, \\\n",
    "    lr_down_prevalence = print_report(y_test, lr_down_pred, 0.5)\n",
    "print(f1_score(y_test, lr_down_pred))"
   ]
  },
  {
   "cell_type": "code",
   "execution_count": 162,
   "metadata": {},
   "outputs": [
    {
     "name": "stderr",
     "output_type": "stream",
     "text": [
      "/Users/claudiostaub/anaconda3/lib/python3.7/site-packages/sklearn/ensemble/forest.py:246: FutureWarning: The default value of n_estimators will change from 10 in version 0.20 to 100 in 0.22.\n",
      "  \"10 in version 0.20 to 100 in 0.22.\", FutureWarning)\n"
     ]
    },
    {
     "name": "stdout",
     "output_type": "stream",
     "text": [
      "AUC:0.573\n",
      "recall:0.482\n",
      "precision:0.159\n",
      "specificity:0.664\n",
      "prevalence:0.116\n",
      " \n",
      "0.23887323943661973\n"
     ]
    }
   ],
   "source": [
    "rf_down = RandomForestClassifier().fit(X_train2, y_train2)\n",
    "rf_down_pred = rf_down.predict(X_test)\n",
    "rf_down_auc, rf_down_recall, rf_down_precision, rf_down_specificity, \\\n",
    "    rf_down_prevalence = print_report(y_test, rf_down_pred, 0.5)\n",
    "print(f1_score(y_test, rf_down_pred))"
   ]
  },
  {
   "cell_type": "code",
   "execution_count": null,
   "metadata": {},
   "outputs": [],
   "source": []
  },
  {
   "cell_type": "markdown",
   "metadata": {},
   "source": [
    "#### SMOTE"
   ]
  },
  {
   "cell_type": "markdown",
   "metadata": {},
   "source": [
    "The first method for dealing with imbalanced data is the Synthetic Minority Oversampling Techique (SMOTE). This technique draws lines between the existing minority cluster and generates data points on those lines until the dataset is balanced. "
   ]
  },
  {
   "cell_type": "code",
   "execution_count": 174,
   "metadata": {},
   "outputs": [],
   "source": [
    "X_train_sm, X_test_sm, y_train_sm, y_test_sm = train_test_split(X, y, test_size=0.25, random_state=0)"
   ]
  },
  {
   "cell_type": "code",
   "execution_count": 175,
   "metadata": {},
   "outputs": [
    {
     "data": {
      "text/plain": [
       "0    62945\n",
       "1     8052\n",
       "Name: readmit, dtype: int64"
      ]
     },
     "execution_count": 175,
     "metadata": {},
     "output_type": "execute_result"
    }
   ],
   "source": [
    "pd.Series(y_train_sm).value_counts()"
   ]
  },
  {
   "cell_type": "code",
   "execution_count": 176,
   "metadata": {},
   "outputs": [],
   "source": [
    "smt = SMOTE(random_state=0)\n",
    "X_train_sm, y_train_sm = smt.fit_sample(X_train_sm, y_train_sm)"
   ]
  },
  {
   "cell_type": "markdown",
   "metadata": {},
   "source": [
    "Reviewing value counts after SMOTE shows that the training dataset is nowbalanced. "
   ]
  },
  {
   "cell_type": "code",
   "execution_count": 177,
   "metadata": {},
   "outputs": [
    {
     "data": {
      "text/plain": [
       "1    62945\n",
       "0    62945\n",
       "dtype: int64"
      ]
     },
     "execution_count": 177,
     "metadata": {},
     "output_type": "execute_result"
    }
   ],
   "source": [
    "pd.Series(y_train_sm).value_counts()"
   ]
  },
  {
   "cell_type": "code",
   "execution_count": 183,
   "metadata": {},
   "outputs": [
    {
     "name": "stdout",
     "output_type": "stream",
     "text": [
      "AUC:0.587\n",
      "recall:0.527\n",
      "precision:0.162\n",
      "specificity:0.646\n",
      "prevalence:0.115\n",
      " \n",
      "0.24729413802060782\n"
     ]
    }
   ],
   "source": [
    "smote_lr = LogisticRegression(solver='liblinear').fit(X_train_sm, y_train_sm)\n",
    "smote_lr_pred = smote_lr.predict(X_test_sm)\n",
    "lr_smt_auc, lr_smt_recall, lr_smt_precision, lr_smt_specificity, \\\n",
    "    lr_smt_prevalence = print_report(y_test_sm, smote_lr_pred, 0.5)\n",
    "print(f1_score(y_test_sm, smote_lr_pred))"
   ]
  },
  {
   "cell_type": "code",
   "execution_count": 182,
   "metadata": {},
   "outputs": [
    {
     "name": "stderr",
     "output_type": "stream",
     "text": [
      "/Users/claudiostaub/anaconda3/lib/python3.7/site-packages/sklearn/ensemble/forest.py:246: FutureWarning: The default value of n_estimators will change from 10 in version 0.20 to 100 in 0.22.\n",
      "  \"10 in version 0.20 to 100 in 0.22.\", FutureWarning)\n"
     ]
    },
    {
     "name": "stdout",
     "output_type": "stream",
     "text": [
      "AUC:0.509\n",
      "recall:0.025\n",
      "precision:0.287\n",
      "specificity:0.992\n",
      "prevalence:0.115\n",
      " \n",
      "0.04613297150610583\n"
     ]
    }
   ],
   "source": [
    "smote_rf = RandomForestClassifier().fit(X_train_sm, y_train_sm)\n",
    "smote_rf_pred = smote_rf.predict(X_test_sm)\n",
    "rf_smt_auc, rf_smt_recall, rf_smt_precision, rf_smt_specificity, \\\n",
    "    rf_smt_prevalence = print_report(y_test_sm, smote_rf_pred, 0.5)\n",
    "print(f1_score(y_test_sm, smote_rf_pred))"
   ]
  },
  {
   "cell_type": "markdown",
   "metadata": {},
   "source": [
    "#### NearMiss"
   ]
  },
  {
   "cell_type": "code",
   "execution_count": 185,
   "metadata": {},
   "outputs": [],
   "source": [
    "X_train_nm, X_test_nm, y_train_nm, y_test_nm = train_test_split(X, y, test_size=0.25, random_state=0)"
   ]
  },
  {
   "cell_type": "code",
   "execution_count": 186,
   "metadata": {},
   "outputs": [
    {
     "data": {
      "text/plain": [
       "0    62945\n",
       "1     8052\n",
       "Name: readmit, dtype: int64"
      ]
     },
     "execution_count": 186,
     "metadata": {},
     "output_type": "execute_result"
    }
   ],
   "source": [
    "pd.Series(y_train_nm).value_counts()"
   ]
  },
  {
   "cell_type": "code",
   "execution_count": 187,
   "metadata": {},
   "outputs": [],
   "source": [
    "nm = NearMiss(random_state=0)\n",
    "X_train_nm, y_train_nm = nm.fit_sample(X_train_nm, y_train_nm)"
   ]
  },
  {
   "cell_type": "code",
   "execution_count": 188,
   "metadata": {},
   "outputs": [
    {
     "data": {
      "text/plain": [
       "1    8052\n",
       "0    8052\n",
       "dtype: int64"
      ]
     },
     "execution_count": 188,
     "metadata": {},
     "output_type": "execute_result"
    }
   ],
   "source": [
    "pd.Series(y_train_nm).value_counts()"
   ]
  },
  {
   "cell_type": "code",
   "execution_count": 189,
   "metadata": {},
   "outputs": [
    {
     "name": "stdout",
     "output_type": "stream",
     "text": [
      "AUC:0.534\n",
      "recall:0.761\n",
      "precision:0.124\n",
      "specificity:0.307\n",
      "prevalence:0.115\n",
      " \n",
      "0.21365661589472593\n"
     ]
    }
   ],
   "source": [
    "nm_lr = LogisticRegression(solver='liblinear').fit(X_train_nm, y_train_nm)\n",
    "nm_lr_pred = nm_lr.predict(X_test_nm)\n",
    "lr_nm_auc, lr_nm_recall, lr_nm_precision, lr_nm_specificity, \\\n",
    "    lr_nm_prevalence = print_report(y_test_nm, nm_lr_pred, 0.5)\n",
    "print(f1_score(y_test_nm, nm_lr_pred))"
   ]
  },
  {
   "cell_type": "code",
   "execution_count": 195,
   "metadata": {},
   "outputs": [
    {
     "name": "stderr",
     "output_type": "stream",
     "text": [
      "/Users/claudiostaub/anaconda3/lib/python3.7/site-packages/sklearn/ensemble/forest.py:246: FutureWarning: The default value of n_estimators will change from 10 in version 0.20 to 100 in 0.22.\n",
      "  \"10 in version 0.20 to 100 in 0.22.\", FutureWarning)\n"
     ]
    },
    {
     "name": "stdout",
     "output_type": "stream",
     "text": [
      "AUC:0.525\n",
      "recall:0.737\n",
      "precision:0.122\n",
      "specificity:0.312\n",
      "prevalence:0.115\n",
      " \n",
      "0.20903482170866883\n"
     ]
    }
   ],
   "source": [
    "nm_rf = RandomForestClassifier().fit(X_train_nm, y_train_nm)\n",
    "nm_rf_pred = nm_rf.predict(X_test_nm)\n",
    "rf_nm_auc, rf_nm_recall, rf_nm_precision, rf_nm_specificity, \\\n",
    "    rf_nm_prevalence = print_report(y_test_nm, nm_rf_pred, 0.5)\n",
    "print(f1_score(y_test_nm, nm_rf_pred))"
   ]
  },
  {
   "cell_type": "code",
   "execution_count": 193,
   "metadata": {},
   "outputs": [
    {
     "data": {
      "text/plain": [
       "array([[ 6426, 14529],\n",
       "       [  649,  2062]])"
      ]
     },
     "execution_count": 193,
     "metadata": {},
     "output_type": "execute_result"
    }
   ],
   "source": [
    "confusion_matrix(y_test_nm, nm_lr_pred)"
   ]
  },
  {
   "cell_type": "code",
   "execution_count": null,
   "metadata": {},
   "outputs": [],
   "source": []
  },
  {
   "cell_type": "code",
   "execution_count": 64,
   "metadata": {},
   "outputs": [
    {
     "name": "stderr",
     "output_type": "stream",
     "text": [
      "/Users/claudiostaub/anaconda3/lib/python3.7/site-packages/sklearn/linear_model/logistic.py:433: FutureWarning: Default solver will be changed to 'lbfgs' in 0.22. Specify a solver to silence this warning.\n",
      "  FutureWarning)\n"
     ]
    }
   ],
   "source": [
    "lr2 = LogisticRegression()\n",
    "lr2.fit(X_train_sm1, y_train_sm1)\n",
    "y_pred_lr2 = lr2.predict(X_test1)"
   ]
  },
  {
   "cell_type": "code",
   "execution_count": 48,
   "metadata": {},
   "outputs": [
    {
     "name": "stdout",
     "output_type": "stream",
     "text": [
      "AUC:0.575\n",
      "recall:0.537\n",
      "precision:0.581\n",
      "specificity:0.613\n",
      "prevalence:0.500\n",
      " \n"
     ]
    }
   ],
   "source": [
    "lr2train_auc, lr2train_recall, lr2train_precision, \\\n",
    "    lr2train_specificity, lr2train_prevalence = print_report(y_train1, lr2.predict(X_train1), 0.5)\n",
    "# validation score"
   ]
  },
  {
   "cell_type": "code",
   "execution_count": 65,
   "metadata": {},
   "outputs": [
    {
     "name": "stdout",
     "output_type": "stream",
     "text": [
      "AUC:0.570\n",
      "recall:0.535\n",
      "precision:0.151\n",
      "specificity:0.604\n",
      "prevalence:0.116\n",
      " \n"
     ]
    }
   ],
   "source": [
    "lr2_auc, lr2_recall, lr2_precision, lr2_specificity, \\\n",
    "    lr2_prevalence = print_report(y_test1, y_pred_lr2, 0.5)\n",
    "\n",
    "# test scores"
   ]
  },
  {
   "cell_type": "code",
   "execution_count": 66,
   "metadata": {},
   "outputs": [
    {
     "data": {
      "text/plain": [
       "array([[10114,  6618],\n",
       "       [ 1023,  1178]])"
      ]
     },
     "execution_count": 66,
     "metadata": {},
     "output_type": "execute_result"
    }
   ],
   "source": [
    "confusion_matrix(y_test1, y_pred_lr2)\n",
    "# '''\n",
    "# [TN | FP\n",
    "# ____|___\n",
    "#     |\n",
    "#  FN | TP]\n",
    "# '''"
   ]
  },
  {
   "cell_type": "code",
   "execution_count": 67,
   "metadata": {},
   "outputs": [
    {
     "name": "stderr",
     "output_type": "stream",
     "text": [
      "/Users/claudiostaub/anaconda3/lib/python3.7/site-packages/sklearn/ensemble/forest.py:246: FutureWarning: The default value of n_estimators will change from 10 in version 0.20 to 100 in 0.22.\n",
      "  \"10 in version 0.20 to 100 in 0.22.\", FutureWarning)\n"
     ]
    },
    {
     "data": {
      "text/plain": [
       "array([[16084,   648],\n",
       "       [ 2057,   144]])"
      ]
     },
     "execution_count": 67,
     "metadata": {},
     "output_type": "execute_result"
    }
   ],
   "source": [
    "rf2 = RandomForestClassifier()\n",
    "rf2.fit(X_train_sm1, y_train_sm1)\n",
    "y_pred_rf2 = rf2.predict(X_test1)\n",
    "confusion_matrix(y_test1, y_pred_rf1)"
   ]
  },
  {
   "cell_type": "code",
   "execution_count": 68,
   "metadata": {},
   "outputs": [
    {
     "name": "stdout",
     "output_type": "stream",
     "text": [
      "AUC:0.518\n",
      "recall:0.272\n",
      "precision:0.132\n",
      "specificity:0.764\n",
      "prevalence:0.116\n",
      " \n"
     ]
    }
   ],
   "source": [
    "rf2_auc, rf2_recall, rf2_precision, rf2_specificity, \\\n",
    "    rf2_prevalence = print_report(y_test1, y_pred_rf2, 0.5)\n",
    " "
   ]
  },
  {
   "cell_type": "code",
   "execution_count": 93,
   "metadata": {},
   "outputs": [
    {
     "data": {
      "text/plain": [
       "array([8562, 8562])"
      ]
     },
     "execution_count": 93,
     "metadata": {},
     "output_type": "execute_result"
    }
   ],
   "source": [
    "nm = NearMiss()\n",
    "X_train_nm, y_train_nm = nm.fit_sample(X_train1, y_train1)\n",
    "\n",
    "np.bincount(y_train_nm)"
   ]
  },
  {
   "cell_type": "code",
   "execution_count": 94,
   "metadata": {},
   "outputs": [
    {
     "name": "stderr",
     "output_type": "stream",
     "text": [
      "/Users/claudiostaub/anaconda3/lib/python3.7/site-packages/sklearn/linear_model/logistic.py:433: FutureWarning: Default solver will be changed to 'lbfgs' in 0.22. Specify a solver to silence this warning.\n",
      "  FutureWarning)\n"
     ]
    }
   ],
   "source": [
    "lr3 = LogisticRegression()\n",
    "lr3.fit(X_train_nm, y_train_nm)\n",
    "y_pred_lr3 = lr3.predict(X_test1)"
   ]
  },
  {
   "cell_type": "code",
   "execution_count": 95,
   "metadata": {},
   "outputs": [
    {
     "name": "stdout",
     "output_type": "stream",
     "text": [
      "AUC:0.548\n",
      "recall:0.705\n",
      "precision:0.132\n",
      "specificity:0.391\n",
      "prevalence:0.116\n",
      " \n"
     ]
    }
   ],
   "source": [
    "lr3_auc, lr3_recall, lr3_precision, lr3_specificity, \\\n",
    "    lr3_prevalence = print_report(y_test1, y_pred_lr3, 0.5)\n"
   ]
  },
  {
   "cell_type": "code",
   "execution_count": 96,
   "metadata": {},
   "outputs": [
    {
     "data": {
      "text/plain": [
       "array([[ 6549, 10183],\n",
       "       [  650,  1551]])"
      ]
     },
     "execution_count": 96,
     "metadata": {},
     "output_type": "execute_result"
    }
   ],
   "source": [
    "confusion_matrix(y_test1, y_pred_lr3)"
   ]
  },
  {
   "cell_type": "code",
   "execution_count": 97,
   "metadata": {},
   "outputs": [
    {
     "name": "stderr",
     "output_type": "stream",
     "text": [
      "/Users/claudiostaub/anaconda3/lib/python3.7/site-packages/sklearn/ensemble/forest.py:246: FutureWarning: The default value of n_estimators will change from 10 in version 0.20 to 100 in 0.22.\n",
      "  \"10 in version 0.20 to 100 in 0.22.\", FutureWarning)\n"
     ]
    },
    {
     "data": {
      "text/plain": [
       "array([[ 4967, 11765],\n",
       "       [  503,  1698]])"
      ]
     },
     "execution_count": 97,
     "metadata": {},
     "output_type": "execute_result"
    }
   ],
   "source": [
    "rf3 = RandomForestClassifier()\n",
    "rf3.fit(X_train_nm, y_train_nm)\n",
    "y_pred_rf3 = rf3.predict(X_test1)\n",
    "confusion_matrix(y_test1, y_pred_rf3)"
   ]
  },
  {
   "cell_type": "code",
   "execution_count": 98,
   "metadata": {},
   "outputs": [
    {
     "name": "stdout",
     "output_type": "stream",
     "text": [
      "AUC:0.534\n",
      "recall:0.771\n",
      "precision:0.126\n",
      "specificity:0.297\n",
      "prevalence:0.116\n",
      " \n"
     ]
    }
   ],
   "source": [
    "rf3_auc, rf3_recall, rf3_precision, rf3_specificity, \\\n",
    "    rf3_prevalence = print_report(y_test1, y_pred_rf3, 0.5)"
   ]
  },
  {
   "cell_type": "markdown",
   "metadata": {},
   "source": [
    "Owing to the poor predictive power of the continuous features used in above feature set, it follows that our model is not performing well.  "
   ]
  },
  {
   "cell_type": "code",
   "execution_count": 102,
   "metadata": {},
   "outputs": [
    {
     "data": {
      "image/png": "[encoded data removed]",
      "text/plain": [
       "<Figure size 1080x576 with 1 Axes>"
      ]
     },
     "metadata": {},
     "output_type": "display_data"
    }
   ],
   "source": [
    "results = pd.DataFrame({'classifier':['LR','LR SMOTE','LR NM','RF', 'RF SMOTE', 'RF NM'],\n",
    "                       'auc':[lr1_auc, lr2_auc,lr3_auc, rf1_auc, rf2_auc, rf3_auc],                    \n",
    "                       'recall':[lr1_recall, lr2_recall, lr3_recall, rf1_recall, rf2_recall, rf3_recall],\n",
    "                       'precision':[lr1_precision, lr2_precision, lr3_precision,  rf1_precision, rf2_precision, rf3_precision],\n",
    "                       'specificity':[lr1_specificity, lr2_specificity, lr3_specificity, rf1_specificity, rf2_specificity, rf3_specificity]                        \n",
    "                       })\n",
    "plt.figure(figsize=(15,8))\n",
    "ax = sns.barplot(x=\"classifier\", y=\"recall\", data=results)\n",
    "ax.set_xlabel('Classifier',fontsize = 15)\n",
    "ax.set_ylabel('recall', fontsize = 15)\n",
    "ax.tick_params(labelsize=15)\n",
    "ax.set_title('Recall in Models +/- SMOTE & NearMiss',fontsize=20)\n",
    "\n",
    "# Put the legend out of the figure\n",
    "# plt.legend(bbox_to_anchor=(1.05, 1), loc=2, borderaxespad=0., fontsize = 15)\n",
    "plt.show()"
   ]
  },
  {
   "cell_type": "code",
   "execution_count": 103,
   "metadata": {},
   "outputs": [
    {
     "data": {
      "image/png": "[encoded data removed]",
      "text/plain": [
       "<Figure size 1080x576 with 1 Axes>"
      ]
     },
     "metadata": {},
     "output_type": "display_data"
    }
   ],
   "source": [
    "results = pd.DataFrame({'classifier':['LR','LR SMOTE','LR NM','RF', 'RF SMOTE', 'RF NM'],\n",
    "                       'auc':[lr1_auc, lr2_auc,lr3_auc, rf1_auc, rf2_auc, rf3_auc],                    \n",
    "                       'recall':[lr1_recall, lr2_recall, lr3_recall, rf1_recall, rf2_recall, rf3_recall],\n",
    "                       'precision':[lr1_precision, lr2_precision, lr3_precision,  rf1_precision, rf2_precision, rf3_precision],\n",
    "                       'specificity':[lr1_specificity, lr2_specificity, lr3_specificity, rf1_specificity, rf2_specificity, rf3_specificity]                        \n",
    "                       })\n",
    "plt.figure(figsize=(15,8))\n",
    "ax = sns.barplot(x=\"classifier\", y=\"precision\", data=results)\n",
    "ax.set_xlabel('Classifier',fontsize = 15)\n",
    "ax.set_ylabel('Precision', fontsize = 15)\n",
    "ax.tick_params(labelsize=15)\n",
    "ax.set_title('Precision in Models +/- SMOTE & NearMiss',fontsize=20)\n",
    "\n",
    "# Put the legend out of the figure\n",
    "# plt.legend(bbox_to_anchor=(1.05, 1), loc=2, borderaxespad=0., fontsize = 15)\n",
    "plt.show()"
   ]
  },
  {
   "cell_type": "code",
   "execution_count": null,
   "metadata": {},
   "outputs": [],
   "source": []
  }
 ],
 "metadata": {
  "kernelspec": {
   "display_name": "Python 3",
   "language": "python",
   "name": "python3"
  },
  "language_info": {
   "codemirror_mode": {
    "name": "ipython",
    "version": 3
   },
   "file_extension": ".py",
   "mimetype": "text/x-python",
   "name": "python",
   "nbconvert_exporter": "python",
   "pygments_lexer": "ipython3",
   "version": "3.7.3"
  }
 },
 "nbformat": 4,
 "nbformat_minor": 2
}
