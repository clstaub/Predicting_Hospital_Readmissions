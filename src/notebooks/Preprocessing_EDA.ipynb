{
 "cells": [
  {
   "cell_type": "code",
   "execution_count": 1,
   "metadata": {
    "scrolled": true
   },
   "outputs": [],
   "source": [
    "import numpy as np\n",
    "import pandas as pd\n",
    "import matplotlib.pyplot as plt\n",
    "import seaborn as sns; sns.set(style=\"ticks\", color_codes=True)\n",
    "plt.style.use('ggplot')\n",
    "import researchpy as rp\n",
    "from scipy import stats\n",
    "%matplotlib inline\n",
    "%run '/Users/claudiostaub/galvanize/capstones/Predicting_Hospital_Readmissions/src/EDA_hypothesis_functions.py'\n"
   ]
  },
  {
   "cell_type": "code",
   "execution_count": 134,
   "metadata": {},
   "outputs": [],
   "source": [
    "#read csv file into Pandas DataFrame\n",
    "df = pd.read_csv('/Users/claudiostaub/galvanize/capstones/Predicting_Hospital_Readmissions/data/diabetic_data.csv')"
   ]
  },
  {
   "cell_type": "markdown",
   "metadata": {},
   "source": [
    "## Introduction\n",
    "With estimated costs in the order of tens of billions per annum, hospital readmissions impose a significant financial burden on health care institutions across the nation. Up until more recent times, there was not a lot of incentive for Hospitals to reduce these readmissions. When Center for Medicares and Medicaid Services began public reporting hospital readmission rates, the ethical and professional incentive was there, but hospitals that aimed to reduce readmissions were losing revenue unless they could fill their beds. Enter the Hospital Readmissions Reduction Program (HRRP) circa 2013 which provided financial incentive for Hospitals to reduce readmissions. \n",
    "\n",
    "This has still proven to be a difficult task but hospitals are employing a number of strategies to reduce the preventable readmissions. Progress has been made since the implementation of the HRRP but estimates of readmissions that could have been prevented are still as high as 70%. It is therefore in their best interest to find ways to further reduce this undesirable outcome. "
   ]
  },
  {
   "cell_type": "markdown",
   "metadata": {},
   "source": [
    "## Strategy\n",
    "\n",
    "- Data Preprocessing\n",
    "- Exploratory Data Analysis\n",
    "- Hypothesis Testing"
   ]
  },
  {
   "cell_type": "markdown",
   "metadata": {},
   "source": [
    "## Data Overview\n",
    "\n",
    "The data set was made available by Virginia Commonwealth University via the UCI Machine Learning Repository and can be found [here](https://archive.ics.uci.edu/ml/datasets/diabetes+130-us+hospitals+for+years+1999-2008).\n",
    "\n",
    "- It contains 101766 observations with 50 different features. \n",
    "- Features are largely categorical variables"
   ]
  },
  {
   "cell_type": "markdown",
   "metadata": {},
   "source": [
    "## Data Preprocessing\n",
    "\n",
    "The metric of interest that labels whether a patient was readmitted or not has three possible values: \n",
    "\n",
    "- **<30** : Patients that were readmitted in less than thirty days. \n",
    "- **>30** : Patients that were readmitted in greater than thirty days. \n",
    "- **NO** : Patients that were not readmitted\n",
    "\n",
    "The metric of concern according to the HRRP is patients that were readmitted in less than thirty days. Therefore we will rename the column to 'readmitted_<30d' and combine the '>30' and 'NO'.  "
   ]
  },
  {
   "cell_type": "code",
   "execution_count": 19,
   "metadata": {},
   "outputs": [
    {
     "name": "stdout",
     "output_type": "stream",
     "text": [
      "/Users/claudiostaub/galvanize/capstones/Predicting_Hospital_Readmissions\n"
     ]
    },
    {
     "data": {
      "text/plain": [
       "'/Users/claudiostaub/galvanize/capstones/Predicting_Hospital_Readmissions'"
      ]
     },
     "execution_count": 19,
     "metadata": {},
     "output_type": "execute_result"
    }
   ],
   "source": [
    "%cd galvanize/capstones/Predicting_Hospital_Readmissions\n",
    "%pwd"
   ]
  },
  {
   "cell_type": "code",
   "execution_count": 135,
   "metadata": {},
   "outputs": [],
   "source": [
    "df = df.rename(columns={'readmitted':'readmit'})"
   ]
  },
  {
   "cell_type": "code",
   "execution_count": 136,
   "metadata": {},
   "outputs": [
    {
     "data": {
      "text/html": [
       "<div>\n",
       "<style scoped>\n",
       "    .dataframe tbody tr th:only-of-type {\n",
       "        vertical-align: middle;\n",
       "    }\n",
       "\n",
       "    .dataframe tbody tr th {\n",
       "        vertical-align: top;\n",
       "    }\n",
       "\n",
       "    .dataframe thead th {\n",
       "        text-align: right;\n",
       "    }\n",
       "</style>\n",
       "<table border=\"1\" class=\"dataframe\">\n",
       "  <thead>\n",
       "    <tr style=\"text-align: right;\">\n",
       "      <th></th>\n",
       "      <th>readmit</th>\n",
       "      <th>frequency</th>\n",
       "    </tr>\n",
       "  </thead>\n",
       "  <tbody>\n",
       "    <tr>\n",
       "      <th>0</th>\n",
       "      <td>False</td>\n",
       "      <td>90409</td>\n",
       "    </tr>\n",
       "    <tr>\n",
       "      <th>1</th>\n",
       "      <td>True</td>\n",
       "      <td>11357</td>\n",
       "    </tr>\n",
       "  </tbody>\n",
       "</table>\n",
       "</div>"
      ],
      "text/plain": [
       "  readmit  frequency\n",
       "0   False      90409\n",
       "1    True      11357"
      ]
     },
     "execution_count": 136,
     "metadata": {},
     "output_type": "execute_result"
    }
   ],
   "source": [
    "# finding frequency of patients readmitted in less than 30 days. \n",
    "df['readmit'].replace({'>30': 'False', 'NO': 'False',\n",
    "                               '<30': 'True'}, inplace=True)\n",
    "readmitcounts = pd.DataFrame(df.groupby(df['readmit']).size())\n",
    "readmitcounts = readmitcounts.reset_index()\n",
    "readmitcounts.columns = ['readmit', 'frequency']\n",
    "readmitcounts\n"
   ]
  },
  {
   "cell_type": "code",
   "execution_count": 137,
   "metadata": {
    "scrolled": false
   },
   "outputs": [
    {
     "data": {
      "image/png": "[encoded data removed]",
      "text/plain": [
       "<Figure size 360x360 with 1 Axes>"
      ]
     },
     "metadata": {
      "needs_background": "light"
     },
     "output_type": "display_data"
    }
   ],
   "source": [
    "fig,ax = plt.subplots(1, figsize=(5,5))\n",
    "ax.bar(readmitcounts['readmit'], readmitcounts.frequency,\n",
    "       color='lightblue',width=0.5,alpha=0.7, edgecolor='black')\n",
    "ax.set_ylabel('Frequency',fontsize=20,color='black')\n",
    "# ax.set_xticks(size=24)\n",
    "# ax.set_yticks(color='black')\n",
    "ax.set_xlabel('Readmitted < 30d',fontsize=20,color='black')\n",
    "ax.set_title('Readmitted Counts',fontsize=20)\n",
    "plt.tight_layout()\n",
    "plt.savefig('/Users/claudiostaub/galvanize/capstones/Predicting_Hospital_Readmissions/img/target.png')"
   ]
  },
  {
   "cell_type": "markdown",
   "metadata": {},
   "source": [
    "The take-away from the bar chart above is that we are working with a very imbalanced data set. This will need to be take into consideration when we start working on the predictive model.  "
   ]
  },
  {
   "cell_type": "markdown",
   "metadata": {},
   "source": [
    "Taking a cursory glance at the data showed that a '?' was used where values were unknown. To address this, we will replace all '?' with np.nan. This will paint a more honest picture of any missing values. \n"
   ]
  },
  {
   "cell_type": "code",
   "execution_count": 138,
   "metadata": {},
   "outputs": [],
   "source": [
    "df = df.replace('?',np.nan)"
   ]
  },
  {
   "cell_type": "code",
   "execution_count": 139,
   "metadata": {},
   "outputs": [
    {
     "data": {
      "text/plain": [
       "[\"Column 'weight' is missing 96.86% of data\",\n",
       " \"Column 'payer_code' is missing 39.56% of data\",\n",
       " \"Column 'medical_specialty' is missing 49.08% of data\"]"
      ]
     },
     "execution_count": 139,
     "metadata": {},
     "output_type": "execute_result"
    }
   ],
   "source": [
    "missing_data(df,5)"
   ]
  },
  {
   "cell_type": "code",
   "execution_count": 140,
   "metadata": {},
   "outputs": [
    {
     "data": {
      "text/plain": [
       "[\"Column 'weight' is missing 96.86% of data\",\n",
       " \"Column 'payer_code' is missing 39.56% of data\",\n",
       " \"Column 'medical_specialty' is missing 49.08% of data\",\n",
       " \"Column 'max_glu_serum' is missing 94.75% of data\",\n",
       " \"Column 'A1Cresult' is missing 83.28% of data\"]"
      ]
     },
     "execution_count": 140,
     "metadata": {},
     "output_type": "execute_result"
    }
   ],
   "source": [
    "missing_data(df.replace('None', np.nan),5)"
   ]
  },
  {
   "cell_type": "markdown",
   "metadata": {},
   "source": [
    "**What do we do with the columns containing missing data?**\n",
    "\n",
    "- Since weight is missing ~97% of data, we will drop the column. It would have been a nice feature to evaluate. \n",
    "- Additionally, payer_code and medical_specialty are missing ~40 and ~50 % of data respectively. Although there are other ways to deal with this, we will remove the columns. "
   ]
  },
  {
   "cell_type": "code",
   "execution_count": 141,
   "metadata": {},
   "outputs": [],
   "source": [
    "df.drop(['weight','payer_code','medical_specialty'], axis=1, inplace=True)\n"
   ]
  },
  {
   "cell_type": "markdown",
   "metadata": {},
   "source": [
    "A good next step would be to evaluate the unique values that each feature contains. If the feature contains a large amount of values (i.e. Patient ID, encounter ID) we will just take a count of the unique values in the column. "
   ]
  },
  {
   "cell_type": "code",
   "execution_count": 142,
   "metadata": {},
   "outputs": [
    {
     "name": "stdout",
     "output_type": "stream",
     "text": [
      "<class 'pandas.core.frame.DataFrame'>\n",
      "RangeIndex: 101766 entries, 0 to 101765\n",
      "Data columns (total 47 columns):\n",
      "encounter_id                101766 non-null int64\n",
      "patient_nbr                 101766 non-null int64\n",
      "race                        99493 non-null object\n",
      "gender                      101766 non-null object\n",
      "age                         101766 non-null object\n",
      "admission_type_id           101766 non-null int64\n",
      "discharge_disposition_id    101766 non-null int64\n",
      "admission_source_id         101766 non-null int64\n",
      "time_in_hospital            101766 non-null int64\n",
      "num_lab_procedures          101766 non-null int64\n",
      "num_procedures              101766 non-null int64\n",
      "num_medications             101766 non-null int64\n",
      "number_outpatient           101766 non-null int64\n",
      "number_emergency            101766 non-null int64\n",
      "number_inpatient            101766 non-null int64\n",
      "diag_1                      101745 non-null object\n",
      "diag_2                      101408 non-null object\n",
      "diag_3                      100343 non-null object\n",
      "number_diagnoses            101766 non-null int64\n",
      "max_glu_serum               101766 non-null object\n",
      "A1Cresult                   101766 non-null object\n",
      "metformin                   101766 non-null object\n",
      "repaglinide                 101766 non-null object\n",
      "nateglinide                 101766 non-null object\n",
      "chlorpropamide              101766 non-null object\n",
      "glimepiride                 101766 non-null object\n",
      "acetohexamide               101766 non-null object\n",
      "glipizide                   101766 non-null object\n",
      "glyburide                   101766 non-null object\n",
      "tolbutamide                 101766 non-null object\n",
      "pioglitazone                101766 non-null object\n",
      "rosiglitazone               101766 non-null object\n",
      "acarbose                    101766 non-null object\n",
      "miglitol                    101766 non-null object\n",
      "troglitazone                101766 non-null object\n",
      "tolazamide                  101766 non-null object\n",
      "examide                     101766 non-null object\n",
      "citoglipton                 101766 non-null object\n",
      "insulin                     101766 non-null object\n",
      "glyburide-metformin         101766 non-null object\n",
      "glipizide-metformin         101766 non-null object\n",
      "glimepiride-pioglitazone    101766 non-null object\n",
      "metformin-rosiglitazone     101766 non-null object\n",
      "metformin-pioglitazone      101766 non-null object\n",
      "change                      101766 non-null object\n",
      "diabetesMed                 101766 non-null object\n",
      "readmit                     101766 non-null object\n",
      "dtypes: int64(13), object(34)\n",
      "memory usage: 36.5+ MB\n"
     ]
    }
   ],
   "source": [
    "df.info()"
   ]
  },
  {
   "cell_type": "code",
   "execution_count": 143,
   "metadata": {},
   "outputs": [
    {
     "name": "stdout",
     "output_type": "stream",
     "text": [
      "encounter_id: 101766 unique values\n",
      "patient_nbr: 71518 unique values\n",
      "race\n",
      "['Caucasian' 'AfricanAmerican' nan 'Other' 'Asian' 'Hispanic']\n",
      "gender\n",
      "['Female' 'Male' 'Unknown/Invalid']\n",
      "age\n",
      "['[0-10)' '[10-20)' '[20-30)' '[30-40)' '[40-50)' '[50-60)' '[60-70)'\n",
      " '[70-80)' '[80-90)' '[90-100)']\n",
      "admission_type_id\n",
      "[6 1 2 3 4 5 8 7]\n",
      "discharge_disposition_id\n",
      "[25  1  3  6  2  5 11  7 10  4 14 18  8 13 12 16 17 22 23  9 20 15 24 28\n",
      " 19 27]\n",
      "admission_source_id\n",
      "[ 1  7  2  4  5  6 20  3 17  8  9 14 10 22 11 25 13]\n",
      "time_in_hospital\n",
      "[ 1  3  2  4  5 13 12  9  7 10  6 11  8 14]\n",
      "num_lab_procedures: 118 unique values\n",
      "num_procedures\n",
      "[0 5 1 6 2 3 4]\n",
      "num_medications: 75 unique values\n",
      "number_outpatient: 39 unique values\n",
      "number_emergency\n",
      "[ 0  1  2  4  3  9  5  7  6  8 22 25 10 13 42 16 11 28 15 14 18 12 21 20\n",
      " 19 46 76 37 64 63 54 24 29]\n",
      "number_inpatient\n",
      "[ 0  1  2  3  6  5  4  7  8  9 15 10 11 14 12 13 17 16 21 18 19]\n",
      "diag_1: 717 unique values\n",
      "diag_2: 749 unique values\n",
      "diag_3: 790 unique values\n",
      "number_diagnoses\n",
      "[ 1  9  6  7  5  8  3  4  2 16 12 13 15 10 11 14]\n",
      "max_glu_serum\n",
      "['None' '>300' 'Norm' '>200']\n",
      "A1Cresult\n",
      "['None' '>7' '>8' 'Norm']\n",
      "metformin\n",
      "['No' 'Steady' 'Up' 'Down']\n",
      "repaglinide\n",
      "['No' 'Up' 'Steady' 'Down']\n",
      "nateglinide\n",
      "['No' 'Steady' 'Down' 'Up']\n",
      "chlorpropamide\n",
      "['No' 'Steady' 'Down' 'Up']\n",
      "glimepiride\n",
      "['No' 'Steady' 'Down' 'Up']\n",
      "acetohexamide\n",
      "['No' 'Steady']\n",
      "glipizide\n",
      "['No' 'Steady' 'Up' 'Down']\n",
      "glyburide\n",
      "['No' 'Steady' 'Up' 'Down']\n",
      "tolbutamide\n",
      "['No' 'Steady']\n",
      "pioglitazone\n",
      "['No' 'Steady' 'Up' 'Down']\n",
      "rosiglitazone\n",
      "['No' 'Steady' 'Up' 'Down']\n",
      "acarbose\n",
      "['No' 'Steady' 'Up' 'Down']\n",
      "miglitol\n",
      "['No' 'Steady' 'Down' 'Up']\n",
      "troglitazone\n",
      "['No' 'Steady']\n",
      "tolazamide\n",
      "['No' 'Steady' 'Up']\n",
      "examide\n",
      "['No']\n",
      "citoglipton\n",
      "['No']\n",
      "insulin\n",
      "['No' 'Up' 'Steady' 'Down']\n",
      "glyburide-metformin\n",
      "['No' 'Steady' 'Down' 'Up']\n",
      "glipizide-metformin\n",
      "['No' 'Steady']\n",
      "glimepiride-pioglitazone\n",
      "['No' 'Steady']\n",
      "metformin-rosiglitazone\n",
      "['No' 'Steady']\n",
      "metformin-pioglitazone\n",
      "['No' 'Steady']\n",
      "change\n",
      "['No' 'Ch']\n",
      "diabetesMed\n",
      "['No' 'Yes']\n",
      "readmit\n",
      "['False' 'True']\n"
     ]
    }
   ],
   "source": [
    "# iterate through all columns and extract the unique values in each column\n",
    "for col in df.columns:\n",
    "    colstr = str(col)\n",
    "    vals = df[colstr].unique()\n",
    "    \n",
    "    if len(vals) < 35:\n",
    "        print(colstr)\n",
    "        print(vals)\n",
    "    else:\n",
    "        print(colstr +': '+str(len(vals))+' unique values')"
   ]
  },
  {
   "cell_type": "markdown",
   "metadata": {},
   "source": [
    "Since 'examide' and 'citoglipton' only contain one unique value, we will drop these two features from the data frame. "
   ]
  },
  {
   "cell_type": "code",
   "execution_count": 144,
   "metadata": {},
   "outputs": [],
   "source": [
    "df.drop(['citoglipton', 'examide'], axis=1, inplace=True)"
   ]
  },
  {
   "cell_type": "code",
   "execution_count": 145,
   "metadata": {},
   "outputs": [
    {
     "data": {
      "text/plain": [
       "'/Users/claudiostaub/galvanize/capstones/Predicting_Hospital_Readmissions/src/notebooks'"
      ]
     },
     "execution_count": 145,
     "metadata": {},
     "output_type": "execute_result"
    }
   ],
   "source": [
    "%pwd"
   ]
  },
  {
   "cell_type": "markdown",
   "metadata": {},
   "source": [
    "Another column that needed cleaning was the **discharge_disposition_id** column. This column along with **admission_type_id** and **admission_source_id** all contained numerical values. These numeric values only served as identifiers and didn't actually have any ordered meaning. The id translations were provided in a separate csv file 'IDs_mapping.csv'.  \n"
   ]
  },
  {
   "cell_type": "code",
   "execution_count": 146,
   "metadata": {},
   "outputs": [],
   "source": [
    "dfid = pd.read_csv('/Users/claudiostaub/galvanize/capstones/Predicting_Hospital_Readmissions/data/IDs_mapping.csv')"
   ]
  },
  {
   "cell_type": "code",
   "execution_count": 147,
   "metadata": {},
   "outputs": [],
   "source": [
    "#split up ID mapping data frame into it's respective columns\n",
    "\n",
    "admission_type = dfid[0:8]\n",
    "admission_type.set_index('admission_type_id',inplace=True)\n",
    "\n",
    "dc_dispo = dfid[9:40]\n",
    "dc_dispo.columns = ['discharge_disposition_id', 'description']\n",
    "dc_dispo = dc_dispo.drop(index=9)\n",
    "dc_dispo = dc_dispo.reset_index()\n",
    "dc_dispo = dc_dispo.drop('index',axis=1)\n",
    "dc_dispo.set_index('discharge_disposition_id',inplace=True)\n",
    "\n",
    "admission_source = dfid[41:]\n",
    "admission_source.columns = ['admission_source_id','description']\n",
    "admission_source = admission_source.drop(index=41)\n",
    "admission_source = admission_source.reset_index()\n",
    "admission_source = admission_source.drop('index',axis=1)\n",
    "admission_source.set_index('admission_source_id',inplace=True)"
   ]
  },
  {
   "cell_type": "markdown",
   "metadata": {},
   "source": [
    "Reviewing admission_type_id table there seem to be some redundancies in the unique values. We can group some of these together to simplify interpretability when we get to Modeling as these could be important features. Will consolidate 'Urgent' and 'Trauma Center' with 'Emergency'. Will also combine 'Not Mapped' and 'NaN' into 'Not Available'. \n",
    "\n",
    "Similar logic can be applied to the discharge_disposition_id as well as the admission_source_id"
   ]
  },
  {
   "cell_type": "code",
   "execution_count": 148,
   "metadata": {},
   "outputs": [],
   "source": [
    "df['admission_type_id'].replace({2:1,7:1,6:5,8:5},inplace=True)"
   ]
  },
  {
   "cell_type": "code",
   "execution_count": 149,
   "metadata": {},
   "outputs": [],
   "source": [
    "df['discharge_disposition_id'].replace({6:1,8:1, 9:1, 3:2, 4:2, 5:2, 22:2, 23:2, 24:2,\n",
    "                                       12:10, 15:10, 16:10, 17:10, 25:18, 26:18}, inplace=True)"
   ]
  },
  {
   "cell_type": "code",
   "execution_count": 150,
   "metadata": {},
   "outputs": [],
   "source": [
    "df['admission_source_id'].replace({2:1, 3:1, 5:4, 6:4, 10:4, 22:4, 25:4, 15:9, 17:9,\n",
    "                                  20:9, 21:9, 13:12, 14:12}, inplace=True)"
   ]
  },
  {
   "cell_type": "markdown",
   "metadata": {},
   "source": [
    "Reviewing these ID data frames, there are some values that will need to be removed from the main df. \n",
    "After consideration, we will remove records that have a discharge_disposition_id that pertains to a patient that has expired or was discharged and transferred to hospice care--reason being that they shouldn't be counted in the group that wasn't readmitted as this would misrepresent that population. \n",
    "\n",
    "\n",
    "Based on these criteria, we will remove records where<br> discharge_disposition_id = 11,13,14,18,19,20,21"
   ]
  },
  {
   "cell_type": "code",
   "execution_count": 151,
   "metadata": {},
   "outputs": [],
   "source": [
    "df = df[~df.discharge_disposition_id.isin([11,13,14,18,19,20,21])]"
   ]
  },
  {
   "cell_type": "code",
   "execution_count": 152,
   "metadata": {},
   "outputs": [
    {
     "name": "stdout",
     "output_type": "stream",
     "text": [
      "Removing observations with above discharge_disposition_id accounted for a 6.01% loss of data\n"
     ]
    }
   ],
   "source": [
    "print('Removing observations with above discharge_disposition_id \\\n",
    "accounted for a {:2.2f}% loss of data'.format((101766-95652)/101766 \n",
    "                                              * 100))"
   ]
  },
  {
   "cell_type": "code",
   "execution_count": 153,
   "metadata": {},
   "outputs": [],
   "source": [
    "#create a data frame with just the patients readmitted in <30 days. \n",
    "readmitmask = df['readmit'] == 'True'\n",
    "readmitsdf = df[readmitmask]\n",
    "negmask = df['readmit'] == 'False'\n",
    "negdf = df[negmask]"
   ]
  },
  {
   "cell_type": "markdown",
   "metadata": {},
   "source": [
    "Non-numeric values can cause problems during modeling so we will also replace some of the string values in the following columns: \n",
    " - df.change\n",
    " - df.gender\n",
    " - df.diabetesMed"
   ]
  },
  {
   "cell_type": "code",
   "execution_count": 154,
   "metadata": {},
   "outputs": [],
   "source": [
    "df['change'].replace({'Ch':True, 'No':False},inplace=True)\n",
    "df['gender'].replace({'Male':1, 'Female':0},inplace=True)"
   ]
  },
  {
   "cell_type": "markdown",
   "metadata": {},
   "source": [
    "For the age column, we will replace the age range bucket with median of the age range. \n",
    "- age\n",
    "['[0-10)' '[10-20)' '[20-30)' '[30-40)' '[40-50)' '[50-60)' '[60-70)'\n",
    " '[70-80)' '[80-90)' '[90-100)']"
   ]
  },
  {
   "cell_type": "code",
   "execution_count": 155,
   "metadata": {},
   "outputs": [],
   "source": [
    "df['age'].replace({'[0-10)':5, '[10-20)':15, '[20-30)':25, '[30-40)':35, '[40-50)':45, '[50-60)':55, \n",
    "                  '[60-70)':65, '[70-80)':75, '[80-90)':85, '[90-100)':95}, inplace=True)"
   ]
  },
  {
   "cell_type": "code",
   "execution_count": 156,
   "metadata": {},
   "outputs": [
    {
     "data": {
      "text/plain": [
       "Index(['encounter_id', 'patient_nbr', 'race', 'gender', 'age',\n",
       "       'admission_type_id', 'discharge_disposition_id', 'admission_source_id',\n",
       "       'time_in_hospital', 'num_lab_procedures', 'num_procedures',\n",
       "       'num_medications', 'number_outpatient', 'number_emergency',\n",
       "       'number_inpatient', 'diag_1', 'diag_2', 'diag_3', 'number_diagnoses',\n",
       "       'max_glu_serum', 'A1Cresult', 'metformin', 'repaglinide', 'nateglinide',\n",
       "       'chlorpropamide', 'glimepiride', 'acetohexamide', 'glipizide',\n",
       "       'glyburide', 'tolbutamide', 'pioglitazone', 'rosiglitazone', 'acarbose',\n",
       "       'miglitol', 'troglitazone', 'tolazamide', 'insulin',\n",
       "       'glyburide-metformin', 'glipizide-metformin',\n",
       "       'glimepiride-pioglitazone', 'metformin-rosiglitazone',\n",
       "       'metformin-pioglitazone', 'change', 'diabetesMed', 'readmit'],\n",
       "      dtype='object')"
      ]
     },
     "execution_count": 156,
     "metadata": {},
     "output_type": "execute_result"
    }
   ],
   "source": [
    "readmitsdf.columns"
   ]
  },
  {
   "cell_type": "markdown",
   "metadata": {},
   "source": [
    "We will one hot encode the categorical values to make them more digestable for the algorithm. The columns with a large amount of unique values will be dropped. "
   ]
  },
  {
   "cell_type": "markdown",
   "metadata": {},
   "source": [
    "All three of the diagnosis columns have more than 700 unique values and will be dropped from the dataset for this model. These could provide valuable information and can be included in a follow up study which would likely require some kind of grouping of ICD classifications. "
   ]
  },
  {
   "cell_type": "code",
   "execution_count": 157,
   "metadata": {},
   "outputs": [],
   "source": [
    "df.drop(['diag_1', 'diag_2', 'diag_3'], axis=1, inplace=True)"
   ]
  },
  {
   "cell_type": "code",
   "execution_count": 162,
   "metadata": {},
   "outputs": [
    {
     "data": {
      "text/plain": [
       "Index(['encounter_id', 'patient_nbr', 'race', 'gender', 'age',\n",
       "       'admission_type_id', 'discharge_disposition_id', 'admission_source_id',\n",
       "       'time_in_hospital', 'num_lab_procedures', 'num_procedures',\n",
       "       'num_medications', 'number_outpatient', 'number_emergency',\n",
       "       'number_inpatient', 'number_diagnoses', 'max_glu_serum', 'A1Cresult',\n",
       "       'metformin', 'repaglinide', 'nateglinide', 'chlorpropamide',\n",
       "       'glimepiride', 'acetohexamide', 'glipizide', 'glyburide', 'tolbutamide',\n",
       "       'pioglitazone', 'rosiglitazone', 'acarbose', 'miglitol', 'troglitazone',\n",
       "       'tolazamide', 'insulin', 'glyburide-metformin', 'glipizide-metformin',\n",
       "       'glimepiride-pioglitazone', 'metformin-rosiglitazone',\n",
       "       'metformin-pioglitazone', 'change', 'diabetesMed', 'readmit'],\n",
       "      dtype='object')"
      ]
     },
     "execution_count": 162,
     "metadata": {},
     "output_type": "execute_result"
    }
   ],
   "source": [
    "df.columns"
   ]
  },
  {
   "cell_type": "code",
   "execution_count": 163,
   "metadata": {},
   "outputs": [
    {
     "data": {
      "text/plain": [
       "Index(['gender', 'age', 'time_in_hospital', 'num_lab_procedures',\n",
       "       'num_procedures', 'num_medications', 'number_outpatient',\n",
       "       'number_emergency', 'number_inpatient', 'number_diagnoses'],\n",
       "      dtype='object')"
      ]
     },
     "execution_count": 163,
     "metadata": {},
     "output_type": "execute_result"
    }
   ],
   "source": [
    "readmitsnumeric.columns"
   ]
  },
  {
   "cell_type": "code",
   "execution_count": 161,
   "metadata": {},
   "outputs": [
    {
     "ename": "KeyError",
     "evalue": "'readmit'",
     "output_type": "error",
     "traceback": [
      "\u001b[0;31m---------------------------------------------------------------------------\u001b[0m",
      "\u001b[0;31mKeyError\u001b[0m                                  Traceback (most recent call last)",
      "\u001b[0;32m~/anaconda3/lib/python3.7/site-packages/pandas/core/indexes/base.py\u001b[0m in \u001b[0;36mget_loc\u001b[0;34m(self, key, method, tolerance)\u001b[0m\n\u001b[1;32m   3077\u001b[0m             \u001b[0;32mtry\u001b[0m\u001b[0;34m:\u001b[0m\u001b[0;34m\u001b[0m\u001b[0;34m\u001b[0m\u001b[0m\n\u001b[0;32m-> 3078\u001b[0;31m                 \u001b[0;32mreturn\u001b[0m \u001b[0mself\u001b[0m\u001b[0;34m.\u001b[0m\u001b[0m_engine\u001b[0m\u001b[0;34m.\u001b[0m\u001b[0mget_loc\u001b[0m\u001b[0;34m(\u001b[0m\u001b[0mkey\u001b[0m\u001b[0;34m)\u001b[0m\u001b[0;34m\u001b[0m\u001b[0;34m\u001b[0m\u001b[0m\n\u001b[0m\u001b[1;32m   3079\u001b[0m             \u001b[0;32mexcept\u001b[0m \u001b[0mKeyError\u001b[0m\u001b[0;34m:\u001b[0m\u001b[0;34m\u001b[0m\u001b[0;34m\u001b[0m\u001b[0m\n",
      "\u001b[0;32mpandas/_libs/index.pyx\u001b[0m in \u001b[0;36mpandas._libs.index.IndexEngine.get_loc\u001b[0;34m()\u001b[0m\n",
      "\u001b[0;32mpandas/_libs/index.pyx\u001b[0m in \u001b[0;36mpandas._libs.index.IndexEngine.get_loc\u001b[0;34m()\u001b[0m\n",
      "\u001b[0;32mpandas/_libs/hashtable_class_helper.pxi\u001b[0m in \u001b[0;36mpandas._libs.hashtable.PyObjectHashTable.get_item\u001b[0;34m()\u001b[0m\n",
      "\u001b[0;32mpandas/_libs/hashtable_class_helper.pxi\u001b[0m in \u001b[0;36mpandas._libs.hashtable.PyObjectHashTable.get_item\u001b[0;34m()\u001b[0m\n",
      "\u001b[0;31mKeyError\u001b[0m: 'readmit'",
      "\nDuring handling of the above exception, another exception occurred:\n",
      "\u001b[0;31mKeyError\u001b[0m                                  Traceback (most recent call last)",
      "\u001b[0;32m<ipython-input-161-3f7e3886f483>\u001b[0m in \u001b[0;36m<module>\u001b[0;34m\u001b[0m\n\u001b[1;32m      1\u001b[0m readmitsnumeric = get_num_cols(df).drop(['encounter_id', 'patient_nbr', 'admission_type_id',\n\u001b[1;32m      2\u001b[0m                      'discharge_disposition_id', 'admission_source_id'],axis=1)\n\u001b[0;32m----> 3\u001b[0;31m \u001b[0msns\u001b[0m\u001b[0;34m.\u001b[0m\u001b[0mpairplot\u001b[0m\u001b[0;34m(\u001b[0m\u001b[0mreadmitsnumeric\u001b[0m\u001b[0;34m,\u001b[0m \u001b[0mhue\u001b[0m\u001b[0;34m=\u001b[0m\u001b[0;34m'readmit'\u001b[0m\u001b[0;34m)\u001b[0m\u001b[0;34m\u001b[0m\u001b[0;34m\u001b[0m\u001b[0m\n\u001b[0m\u001b[1;32m      4\u001b[0m \u001b[0;31m# plt.tight_layout()\u001b[0m\u001b[0;34m\u001b[0m\u001b[0;34m\u001b[0m\u001b[0;34m\u001b[0m\u001b[0m\n",
      "\u001b[0;32m~/anaconda3/lib/python3.7/site-packages/seaborn/axisgrid.py\u001b[0m in \u001b[0;36mpairplot\u001b[0;34m(data, hue, hue_order, palette, vars, x_vars, y_vars, kind, diag_kind, markers, height, aspect, dropna, plot_kws, diag_kws, grid_kws, size)\u001b[0m\n\u001b[1;32m   2082\u001b[0m                     \u001b[0mhue_order\u001b[0m\u001b[0;34m=\u001b[0m\u001b[0mhue_order\u001b[0m\u001b[0;34m,\u001b[0m \u001b[0mpalette\u001b[0m\u001b[0;34m=\u001b[0m\u001b[0mpalette\u001b[0m\u001b[0;34m,\u001b[0m\u001b[0;34m\u001b[0m\u001b[0;34m\u001b[0m\u001b[0m\n\u001b[1;32m   2083\u001b[0m                     \u001b[0mdiag_sharey\u001b[0m\u001b[0;34m=\u001b[0m\u001b[0mdiag_sharey\u001b[0m\u001b[0;34m,\u001b[0m\u001b[0;34m\u001b[0m\u001b[0;34m\u001b[0m\u001b[0m\n\u001b[0;32m-> 2084\u001b[0;31m                     height=height, aspect=aspect, dropna=dropna, **grid_kws)\n\u001b[0m\u001b[1;32m   2085\u001b[0m \u001b[0;34m\u001b[0m\u001b[0m\n\u001b[1;32m   2086\u001b[0m     \u001b[0;31m# Add the markers here as PairGrid has figured out how many levels of the\u001b[0m\u001b[0;34m\u001b[0m\u001b[0;34m\u001b[0m\u001b[0;34m\u001b[0m\u001b[0m\n",
      "\u001b[0;32m~/anaconda3/lib/python3.7/site-packages/seaborn/axisgrid.py\u001b[0m in \u001b[0;36m__init__\u001b[0;34m(self, data, hue, hue_order, palette, hue_kws, vars, x_vars, y_vars, diag_sharey, height, aspect, despine, dropna, size)\u001b[0m\n\u001b[1;32m   1288\u001b[0m                                       index=data.index)\n\u001b[1;32m   1289\u001b[0m         \u001b[0;32melse\u001b[0m\u001b[0;34m:\u001b[0m\u001b[0;34m\u001b[0m\u001b[0;34m\u001b[0m\u001b[0m\n\u001b[0;32m-> 1290\u001b[0;31m             \u001b[0mhue_names\u001b[0m \u001b[0;34m=\u001b[0m \u001b[0mutils\u001b[0m\u001b[0;34m.\u001b[0m\u001b[0mcategorical_order\u001b[0m\u001b[0;34m(\u001b[0m\u001b[0mdata\u001b[0m\u001b[0;34m[\u001b[0m\u001b[0mhue\u001b[0m\u001b[0;34m]\u001b[0m\u001b[0;34m,\u001b[0m \u001b[0mhue_order\u001b[0m\u001b[0;34m)\u001b[0m\u001b[0;34m\u001b[0m\u001b[0;34m\u001b[0m\u001b[0m\n\u001b[0m\u001b[1;32m   1291\u001b[0m             \u001b[0;32mif\u001b[0m \u001b[0mdropna\u001b[0m\u001b[0;34m:\u001b[0m\u001b[0;34m\u001b[0m\u001b[0;34m\u001b[0m\u001b[0m\n\u001b[1;32m   1292\u001b[0m                 \u001b[0;31m# Filter NA from the list of unique hue names\u001b[0m\u001b[0;34m\u001b[0m\u001b[0;34m\u001b[0m\u001b[0;34m\u001b[0m\u001b[0m\n",
      "\u001b[0;32m~/anaconda3/lib/python3.7/site-packages/pandas/core/frame.py\u001b[0m in \u001b[0;36m__getitem__\u001b[0;34m(self, key)\u001b[0m\n\u001b[1;32m   2686\u001b[0m             \u001b[0;32mreturn\u001b[0m \u001b[0mself\u001b[0m\u001b[0;34m.\u001b[0m\u001b[0m_getitem_multilevel\u001b[0m\u001b[0;34m(\u001b[0m\u001b[0mkey\u001b[0m\u001b[0;34m)\u001b[0m\u001b[0;34m\u001b[0m\u001b[0;34m\u001b[0m\u001b[0m\n\u001b[1;32m   2687\u001b[0m         \u001b[0;32melse\u001b[0m\u001b[0;34m:\u001b[0m\u001b[0;34m\u001b[0m\u001b[0;34m\u001b[0m\u001b[0m\n\u001b[0;32m-> 2688\u001b[0;31m             \u001b[0;32mreturn\u001b[0m \u001b[0mself\u001b[0m\u001b[0;34m.\u001b[0m\u001b[0m_getitem_column\u001b[0m\u001b[0;34m(\u001b[0m\u001b[0mkey\u001b[0m\u001b[0;34m)\u001b[0m\u001b[0;34m\u001b[0m\u001b[0;34m\u001b[0m\u001b[0m\n\u001b[0m\u001b[1;32m   2689\u001b[0m \u001b[0;34m\u001b[0m\u001b[0m\n\u001b[1;32m   2690\u001b[0m     \u001b[0;32mdef\u001b[0m \u001b[0m_getitem_column\u001b[0m\u001b[0;34m(\u001b[0m\u001b[0mself\u001b[0m\u001b[0;34m,\u001b[0m \u001b[0mkey\u001b[0m\u001b[0;34m)\u001b[0m\u001b[0;34m:\u001b[0m\u001b[0;34m\u001b[0m\u001b[0;34m\u001b[0m\u001b[0m\n",
      "\u001b[0;32m~/anaconda3/lib/python3.7/site-packages/pandas/core/frame.py\u001b[0m in \u001b[0;36m_getitem_column\u001b[0;34m(self, key)\u001b[0m\n\u001b[1;32m   2693\u001b[0m         \u001b[0;31m# get column\u001b[0m\u001b[0;34m\u001b[0m\u001b[0;34m\u001b[0m\u001b[0;34m\u001b[0m\u001b[0m\n\u001b[1;32m   2694\u001b[0m         \u001b[0;32mif\u001b[0m \u001b[0mself\u001b[0m\u001b[0;34m.\u001b[0m\u001b[0mcolumns\u001b[0m\u001b[0;34m.\u001b[0m\u001b[0mis_unique\u001b[0m\u001b[0;34m:\u001b[0m\u001b[0;34m\u001b[0m\u001b[0;34m\u001b[0m\u001b[0m\n\u001b[0;32m-> 2695\u001b[0;31m             \u001b[0;32mreturn\u001b[0m \u001b[0mself\u001b[0m\u001b[0;34m.\u001b[0m\u001b[0m_get_item_cache\u001b[0m\u001b[0;34m(\u001b[0m\u001b[0mkey\u001b[0m\u001b[0;34m)\u001b[0m\u001b[0;34m\u001b[0m\u001b[0;34m\u001b[0m\u001b[0m\n\u001b[0m\u001b[1;32m   2696\u001b[0m \u001b[0;34m\u001b[0m\u001b[0m\n\u001b[1;32m   2697\u001b[0m         \u001b[0;31m# duplicate columns & possible reduce dimensionality\u001b[0m\u001b[0;34m\u001b[0m\u001b[0;34m\u001b[0m\u001b[0;34m\u001b[0m\u001b[0m\n",
      "\u001b[0;32m~/anaconda3/lib/python3.7/site-packages/pandas/core/generic.py\u001b[0m in \u001b[0;36m_get_item_cache\u001b[0;34m(self, item)\u001b[0m\n\u001b[1;32m   2487\u001b[0m         \u001b[0mres\u001b[0m \u001b[0;34m=\u001b[0m \u001b[0mcache\u001b[0m\u001b[0;34m.\u001b[0m\u001b[0mget\u001b[0m\u001b[0;34m(\u001b[0m\u001b[0mitem\u001b[0m\u001b[0;34m)\u001b[0m\u001b[0;34m\u001b[0m\u001b[0;34m\u001b[0m\u001b[0m\n\u001b[1;32m   2488\u001b[0m         \u001b[0;32mif\u001b[0m \u001b[0mres\u001b[0m \u001b[0;32mis\u001b[0m \u001b[0;32mNone\u001b[0m\u001b[0;34m:\u001b[0m\u001b[0;34m\u001b[0m\u001b[0;34m\u001b[0m\u001b[0m\n\u001b[0;32m-> 2489\u001b[0;31m             \u001b[0mvalues\u001b[0m \u001b[0;34m=\u001b[0m \u001b[0mself\u001b[0m\u001b[0;34m.\u001b[0m\u001b[0m_data\u001b[0m\u001b[0;34m.\u001b[0m\u001b[0mget\u001b[0m\u001b[0;34m(\u001b[0m\u001b[0mitem\u001b[0m\u001b[0;34m)\u001b[0m\u001b[0;34m\u001b[0m\u001b[0;34m\u001b[0m\u001b[0m\n\u001b[0m\u001b[1;32m   2490\u001b[0m             \u001b[0mres\u001b[0m \u001b[0;34m=\u001b[0m \u001b[0mself\u001b[0m\u001b[0;34m.\u001b[0m\u001b[0m_box_item_values\u001b[0m\u001b[0;34m(\u001b[0m\u001b[0mitem\u001b[0m\u001b[0;34m,\u001b[0m \u001b[0mvalues\u001b[0m\u001b[0;34m)\u001b[0m\u001b[0;34m\u001b[0m\u001b[0;34m\u001b[0m\u001b[0m\n\u001b[1;32m   2491\u001b[0m             \u001b[0mcache\u001b[0m\u001b[0;34m[\u001b[0m\u001b[0mitem\u001b[0m\u001b[0;34m]\u001b[0m \u001b[0;34m=\u001b[0m \u001b[0mres\u001b[0m\u001b[0;34m\u001b[0m\u001b[0;34m\u001b[0m\u001b[0m\n",
      "\u001b[0;32m~/anaconda3/lib/python3.7/site-packages/pandas/core/internals.py\u001b[0m in \u001b[0;36mget\u001b[0;34m(self, item, fastpath)\u001b[0m\n\u001b[1;32m   4113\u001b[0m \u001b[0;34m\u001b[0m\u001b[0m\n\u001b[1;32m   4114\u001b[0m             \u001b[0;32mif\u001b[0m \u001b[0;32mnot\u001b[0m \u001b[0misna\u001b[0m\u001b[0;34m(\u001b[0m\u001b[0mitem\u001b[0m\u001b[0;34m)\u001b[0m\u001b[0;34m:\u001b[0m\u001b[0;34m\u001b[0m\u001b[0;34m\u001b[0m\u001b[0m\n\u001b[0;32m-> 4115\u001b[0;31m                 \u001b[0mloc\u001b[0m \u001b[0;34m=\u001b[0m \u001b[0mself\u001b[0m\u001b[0;34m.\u001b[0m\u001b[0mitems\u001b[0m\u001b[0;34m.\u001b[0m\u001b[0mget_loc\u001b[0m\u001b[0;34m(\u001b[0m\u001b[0mitem\u001b[0m\u001b[0;34m)\u001b[0m\u001b[0;34m\u001b[0m\u001b[0;34m\u001b[0m\u001b[0m\n\u001b[0m\u001b[1;32m   4116\u001b[0m             \u001b[0;32melse\u001b[0m\u001b[0;34m:\u001b[0m\u001b[0;34m\u001b[0m\u001b[0;34m\u001b[0m\u001b[0m\n\u001b[1;32m   4117\u001b[0m                 \u001b[0mindexer\u001b[0m \u001b[0;34m=\u001b[0m \u001b[0mnp\u001b[0m\u001b[0;34m.\u001b[0m\u001b[0marange\u001b[0m\u001b[0;34m(\u001b[0m\u001b[0mlen\u001b[0m\u001b[0;34m(\u001b[0m\u001b[0mself\u001b[0m\u001b[0;34m.\u001b[0m\u001b[0mitems\u001b[0m\u001b[0;34m)\u001b[0m\u001b[0;34m)\u001b[0m\u001b[0;34m[\u001b[0m\u001b[0misna\u001b[0m\u001b[0;34m(\u001b[0m\u001b[0mself\u001b[0m\u001b[0;34m.\u001b[0m\u001b[0mitems\u001b[0m\u001b[0;34m)\u001b[0m\u001b[0;34m]\u001b[0m\u001b[0;34m\u001b[0m\u001b[0;34m\u001b[0m\u001b[0m\n",
      "\u001b[0;32m~/anaconda3/lib/python3.7/site-packages/pandas/core/indexes/base.py\u001b[0m in \u001b[0;36mget_loc\u001b[0;34m(self, key, method, tolerance)\u001b[0m\n\u001b[1;32m   3078\u001b[0m                 \u001b[0;32mreturn\u001b[0m \u001b[0mself\u001b[0m\u001b[0;34m.\u001b[0m\u001b[0m_engine\u001b[0m\u001b[0;34m.\u001b[0m\u001b[0mget_loc\u001b[0m\u001b[0;34m(\u001b[0m\u001b[0mkey\u001b[0m\u001b[0;34m)\u001b[0m\u001b[0;34m\u001b[0m\u001b[0;34m\u001b[0m\u001b[0m\n\u001b[1;32m   3079\u001b[0m             \u001b[0;32mexcept\u001b[0m \u001b[0mKeyError\u001b[0m\u001b[0;34m:\u001b[0m\u001b[0;34m\u001b[0m\u001b[0;34m\u001b[0m\u001b[0m\n\u001b[0;32m-> 3080\u001b[0;31m                 \u001b[0;32mreturn\u001b[0m \u001b[0mself\u001b[0m\u001b[0;34m.\u001b[0m\u001b[0m_engine\u001b[0m\u001b[0;34m.\u001b[0m\u001b[0mget_loc\u001b[0m\u001b[0;34m(\u001b[0m\u001b[0mself\u001b[0m\u001b[0;34m.\u001b[0m\u001b[0m_maybe_cast_indexer\u001b[0m\u001b[0;34m(\u001b[0m\u001b[0mkey\u001b[0m\u001b[0;34m)\u001b[0m\u001b[0;34m)\u001b[0m\u001b[0;34m\u001b[0m\u001b[0;34m\u001b[0m\u001b[0m\n\u001b[0m\u001b[1;32m   3081\u001b[0m \u001b[0;34m\u001b[0m\u001b[0m\n\u001b[1;32m   3082\u001b[0m         \u001b[0mindexer\u001b[0m \u001b[0;34m=\u001b[0m \u001b[0mself\u001b[0m\u001b[0;34m.\u001b[0m\u001b[0mget_indexer\u001b[0m\u001b[0;34m(\u001b[0m\u001b[0;34m[\u001b[0m\u001b[0mkey\u001b[0m\u001b[0;34m]\u001b[0m\u001b[0;34m,\u001b[0m \u001b[0mmethod\u001b[0m\u001b[0;34m=\u001b[0m\u001b[0mmethod\u001b[0m\u001b[0;34m,\u001b[0m \u001b[0mtolerance\u001b[0m\u001b[0;34m=\u001b[0m\u001b[0mtolerance\u001b[0m\u001b[0;34m)\u001b[0m\u001b[0;34m\u001b[0m\u001b[0;34m\u001b[0m\u001b[0m\n",
      "\u001b[0;32mpandas/_libs/index.pyx\u001b[0m in \u001b[0;36mpandas._libs.index.IndexEngine.get_loc\u001b[0;34m()\u001b[0m\n",
      "\u001b[0;32mpandas/_libs/index.pyx\u001b[0m in \u001b[0;36mpandas._libs.index.IndexEngine.get_loc\u001b[0;34m()\u001b[0m\n",
      "\u001b[0;32mpandas/_libs/hashtable_class_helper.pxi\u001b[0m in \u001b[0;36mpandas._libs.hashtable.PyObjectHashTable.get_item\u001b[0;34m()\u001b[0m\n",
      "\u001b[0;32mpandas/_libs/hashtable_class_helper.pxi\u001b[0m in \u001b[0;36mpandas._libs.hashtable.PyObjectHashTable.get_item\u001b[0;34m()\u001b[0m\n",
      "\u001b[0;31mKeyError\u001b[0m: 'readmit'"
     ]
    },
    {
     "data": {
      "image/png": "[encoded data removed]",
      "text/plain": [
       "<Figure size 1620x1620 with 81 Axes>"
      ]
     },
     "metadata": {
      "needs_background": "light"
     },
     "output_type": "display_data"
    }
   ],
   "source": [
    "readmitsnumeric = get_num_cols(df).drop(['encounter_id', 'patient_nbr', 'admission_type_id',\n",
    "                     'discharge_disposition_id', 'admission_source_id'],axis=1)\n",
    "sns.pairplot(readmitsnumeric,)\n",
    "# plt.tight_layout()\n"
   ]
  },
  {
   "cell_type": "code",
   "execution_count": 158,
   "metadata": {},
   "outputs": [],
   "source": [
    "# df = pd.get_dummies(df, drop_first=True)"
   ]
  },
  {
   "cell_type": "code",
   "execution_count": 159,
   "metadata": {},
   "outputs": [
    {
     "name": "stdout",
     "output_type": "stream",
     "text": [
      "<class 'pandas.core.frame.DataFrame'>\n",
      "Int64Index: 94663 entries, 1 to 101765\n",
      "Data columns (total 42 columns):\n",
      "encounter_id                94663 non-null int64\n",
      "patient_nbr                 94663 non-null int64\n",
      "race                        92463 non-null object\n",
      "gender                      94663 non-null object\n",
      "age                         94663 non-null int64\n",
      "admission_type_id           94663 non-null int64\n",
      "discharge_disposition_id    94663 non-null int64\n",
      "admission_source_id         94663 non-null int64\n",
      "time_in_hospital            94663 non-null int64\n",
      "num_lab_procedures          94663 non-null int64\n",
      "num_procedures              94663 non-null int64\n",
      "num_medications             94663 non-null int64\n",
      "number_outpatient           94663 non-null int64\n",
      "number_emergency            94663 non-null int64\n",
      "number_inpatient            94663 non-null int64\n",
      "number_diagnoses            94663 non-null int64\n",
      "max_glu_serum               94663 non-null object\n",
      "A1Cresult                   94663 non-null object\n",
      "metformin                   94663 non-null object\n",
      "repaglinide                 94663 non-null object\n",
      "nateglinide                 94663 non-null object\n",
      "chlorpropamide              94663 non-null object\n",
      "glimepiride                 94663 non-null object\n",
      "acetohexamide               94663 non-null object\n",
      "glipizide                   94663 non-null object\n",
      "glyburide                   94663 non-null object\n",
      "tolbutamide                 94663 non-null object\n",
      "pioglitazone                94663 non-null object\n",
      "rosiglitazone               94663 non-null object\n",
      "acarbose                    94663 non-null object\n",
      "miglitol                    94663 non-null object\n",
      "troglitazone                94663 non-null object\n",
      "tolazamide                  94663 non-null object\n",
      "insulin                     94663 non-null object\n",
      "glyburide-metformin         94663 non-null object\n",
      "glipizide-metformin         94663 non-null object\n",
      "glimepiride-pioglitazone    94663 non-null object\n",
      "metformin-rosiglitazone     94663 non-null object\n",
      "metformin-pioglitazone      94663 non-null object\n",
      "change                      94663 non-null bool\n",
      "diabetesMed                 94663 non-null object\n",
      "readmit                     94663 non-null object\n",
      "dtypes: bool(1), int64(14), object(27)\n",
      "memory usage: 30.4+ MB\n"
     ]
    }
   ],
   "source": [
    "df.info()"
   ]
  },
  {
   "cell_type": "code",
   "execution_count": 39,
   "metadata": {},
   "outputs": [],
   "source": [
    "df.to_csv('/Users/claudiostaub/galvanize/capstones/Predicting_Hospital_Readmissions/data/clean_df.csv')"
   ]
  },
  {
   "cell_type": "markdown",
   "metadata": {},
   "source": [
    "## Exploratory Data Analysis"
   ]
  },
  {
   "cell_type": "markdown",
   "metadata": {},
   "source": [
    "It is worth exploring if any of the numeric variables have any correlations. We will write a function to exract numeric columns from a data frame of choice and return a numeric data frame. This will be performed for both the \n",
    "\n",
    "Extraction of numeric columns and plotting in a pairplot did not yield any strong correlations. "
   ]
  },
  {
   "cell_type": "code",
   "execution_count": 107,
   "metadata": {},
   "outputs": [
    {
     "data": {
      "text/html": [
       "<div>\n",
       "<style scoped>\n",
       "    .dataframe tbody tr th:only-of-type {\n",
       "        vertical-align: middle;\n",
       "    }\n",
       "\n",
       "    .dataframe tbody tr th {\n",
       "        vertical-align: top;\n",
       "    }\n",
       "\n",
       "    .dataframe thead th {\n",
       "        text-align: right;\n",
       "    }\n",
       "</style>\n",
       "<table border=\"1\" class=\"dataframe\">\n",
       "  <thead>\n",
       "    <tr style=\"text-align: right;\">\n",
       "      <th></th>\n",
       "      <th>age</th>\n",
       "      <th>time_in_hospital</th>\n",
       "      <th>num_lab_procedures</th>\n",
       "      <th>num_procedures</th>\n",
       "      <th>num_medications</th>\n",
       "      <th>number_outpatient</th>\n",
       "      <th>number_emergency</th>\n",
       "      <th>number_inpatient</th>\n",
       "      <th>number_diagnoses</th>\n",
       "      <th>race_Asian</th>\n",
       "      <th>...</th>\n",
       "      <th>insulin_Up</th>\n",
       "      <th>glyburide-metformin_No</th>\n",
       "      <th>glyburide-metformin_Steady</th>\n",
       "      <th>glyburide-metformin_Up</th>\n",
       "      <th>glipizide-metformin_Steady</th>\n",
       "      <th>glimepiride-pioglitazone_Steady</th>\n",
       "      <th>metformin-rosiglitazone_Steady</th>\n",
       "      <th>metformin-pioglitazone_Steady</th>\n",
       "      <th>diabetesMed_Yes</th>\n",
       "      <th>readmit_True</th>\n",
       "    </tr>\n",
       "  </thead>\n",
       "  <tbody>\n",
       "    <tr>\n",
       "      <th>1</th>\n",
       "      <td>15</td>\n",
       "      <td>3</td>\n",
       "      <td>59</td>\n",
       "      <td>0</td>\n",
       "      <td>18</td>\n",
       "      <td>0</td>\n",
       "      <td>0</td>\n",
       "      <td>0</td>\n",
       "      <td>9</td>\n",
       "      <td>0</td>\n",
       "      <td>...</td>\n",
       "      <td>1</td>\n",
       "      <td>1</td>\n",
       "      <td>0</td>\n",
       "      <td>0</td>\n",
       "      <td>0</td>\n",
       "      <td>0</td>\n",
       "      <td>0</td>\n",
       "      <td>0</td>\n",
       "      <td>1</td>\n",
       "      <td>0</td>\n",
       "    </tr>\n",
       "    <tr>\n",
       "      <th>2</th>\n",
       "      <td>25</td>\n",
       "      <td>2</td>\n",
       "      <td>11</td>\n",
       "      <td>5</td>\n",
       "      <td>13</td>\n",
       "      <td>2</td>\n",
       "      <td>0</td>\n",
       "      <td>1</td>\n",
       "      <td>6</td>\n",
       "      <td>0</td>\n",
       "      <td>...</td>\n",
       "      <td>0</td>\n",
       "      <td>1</td>\n",
       "      <td>0</td>\n",
       "      <td>0</td>\n",
       "      <td>0</td>\n",
       "      <td>0</td>\n",
       "      <td>0</td>\n",
       "      <td>0</td>\n",
       "      <td>1</td>\n",
       "      <td>0</td>\n",
       "    </tr>\n",
       "    <tr>\n",
       "      <th>3</th>\n",
       "      <td>35</td>\n",
       "      <td>2</td>\n",
       "      <td>44</td>\n",
       "      <td>1</td>\n",
       "      <td>16</td>\n",
       "      <td>0</td>\n",
       "      <td>0</td>\n",
       "      <td>0</td>\n",
       "      <td>7</td>\n",
       "      <td>0</td>\n",
       "      <td>...</td>\n",
       "      <td>1</td>\n",
       "      <td>1</td>\n",
       "      <td>0</td>\n",
       "      <td>0</td>\n",
       "      <td>0</td>\n",
       "      <td>0</td>\n",
       "      <td>0</td>\n",
       "      <td>0</td>\n",
       "      <td>1</td>\n",
       "      <td>0</td>\n",
       "    </tr>\n",
       "    <tr>\n",
       "      <th>4</th>\n",
       "      <td>45</td>\n",
       "      <td>1</td>\n",
       "      <td>51</td>\n",
       "      <td>0</td>\n",
       "      <td>8</td>\n",
       "      <td>0</td>\n",
       "      <td>0</td>\n",
       "      <td>0</td>\n",
       "      <td>5</td>\n",
       "      <td>0</td>\n",
       "      <td>...</td>\n",
       "      <td>0</td>\n",
       "      <td>1</td>\n",
       "      <td>0</td>\n",
       "      <td>0</td>\n",
       "      <td>0</td>\n",
       "      <td>0</td>\n",
       "      <td>0</td>\n",
       "      <td>0</td>\n",
       "      <td>1</td>\n",
       "      <td>0</td>\n",
       "    </tr>\n",
       "    <tr>\n",
       "      <th>5</th>\n",
       "      <td>55</td>\n",
       "      <td>3</td>\n",
       "      <td>31</td>\n",
       "      <td>6</td>\n",
       "      <td>16</td>\n",
       "      <td>0</td>\n",
       "      <td>0</td>\n",
       "      <td>0</td>\n",
       "      <td>9</td>\n",
       "      <td>0</td>\n",
       "      <td>...</td>\n",
       "      <td>0</td>\n",
       "      <td>1</td>\n",
       "      <td>0</td>\n",
       "      <td>0</td>\n",
       "      <td>0</td>\n",
       "      <td>0</td>\n",
       "      <td>0</td>\n",
       "      <td>0</td>\n",
       "      <td>1</td>\n",
       "      <td>0</td>\n",
       "    </tr>\n",
       "  </tbody>\n",
       "</table>\n",
       "<p>5 rows × 70 columns</p>\n",
       "</div>"
      ],
      "text/plain": [
       "   age  time_in_hospital  num_lab_procedures  num_procedures  num_medications  \\\n",
       "1   15                 3                  59               0               18   \n",
       "2   25                 2                  11               5               13   \n",
       "3   35                 2                  44               1               16   \n",
       "4   45                 1                  51               0                8   \n",
       "5   55                 3                  31               6               16   \n",
       "\n",
       "   number_outpatient  number_emergency  number_inpatient  number_diagnoses  \\\n",
       "1                  0                 0                 0                 9   \n",
       "2                  2                 0                 1                 6   \n",
       "3                  0                 0                 0                 7   \n",
       "4                  0                 0                 0                 5   \n",
       "5                  0                 0                 0                 9   \n",
       "\n",
       "   race_Asian      ...       insulin_Up  glyburide-metformin_No  \\\n",
       "1           0      ...                1                       1   \n",
       "2           0      ...                0                       1   \n",
       "3           0      ...                1                       1   \n",
       "4           0      ...                0                       1   \n",
       "5           0      ...                0                       1   \n",
       "\n",
       "   glyburide-metformin_Steady  glyburide-metformin_Up  \\\n",
       "1                           0                       0   \n",
       "2                           0                       0   \n",
       "3                           0                       0   \n",
       "4                           0                       0   \n",
       "5                           0                       0   \n",
       "\n",
       "   glipizide-metformin_Steady  glimepiride-pioglitazone_Steady  \\\n",
       "1                           0                                0   \n",
       "2                           0                                0   \n",
       "3                           0                                0   \n",
       "4                           0                                0   \n",
       "5                           0                                0   \n",
       "\n",
       "   metformin-rosiglitazone_Steady  metformin-pioglitazone_Steady  \\\n",
       "1                               0                              0   \n",
       "2                               0                              0   \n",
       "3                               0                              0   \n",
       "4                               0                              0   \n",
       "5                               0                              0   \n",
       "\n",
       "   diabetesMed_Yes  readmit_True  \n",
       "1                1             0  \n",
       "2                1             0  \n",
       "3                1             0  \n",
       "4                1             0  \n",
       "5                1             0  \n",
       "\n",
       "[5 rows x 70 columns]"
      ]
     },
     "execution_count": 107,
     "metadata": {},
     "output_type": "execute_result"
    }
   ],
   "source": [
    "readmitsnumeric = get_num_cols(df).drop(['encounter_id', 'patient_nbr', 'admission_type_id',\n",
    "                     'discharge_disposition_id', 'admission_source_id'],axis=1)\n",
    "# sns.pairplot(readmitsnumeric, hue='readmit_True')\n",
    "# plt.tight_layout()\n",
    "readmitsnumeric.head()\n"
   ]
  },
  {
   "cell_type": "code",
   "execution_count": 40,
   "metadata": {},
   "outputs": [],
   "source": [
    "dfnumeric = get_num_cols(df).drop(['encounter_id', 'patient_nbr', 'admission_type_id',\n",
    "                     'discharge_disposition_id', 'admission_source_id'],axis=1)"
   ]
  },
  {
   "cell_type": "code",
   "execution_count": null,
   "metadata": {},
   "outputs": [],
   "source": [
    "# sns.pairplot(dfnumeric)\n",
    "# plt.tight_layout()"
   ]
  },
  {
   "cell_type": "markdown",
   "metadata": {},
   "source": [
    "The columns with integer values did not provide a lot of insight. These int columns are largely nominal and interval variables which explains their lack of fruitful information in the pairplots generated above. \n",
    "\n",
    "Let's further evaluate the distributions of these continuous variables to see if they have any predictive power in the classification. "
   ]
  },
  {
   "cell_type": "code",
   "execution_count": 42,
   "metadata": {},
   "outputs": [
    {
     "data": {
      "image/png": "[encoded data removed]",
      "text/plain": [
       "<Figure size 864x360 with 1 Axes>"
      ]
     },
     "metadata": {
      "needs_background": "light"
     },
     "output_type": "display_data"
    }
   ],
   "source": [
    "readmitsagedf = pd.DataFrame(readmitsdf.groupby(readmitsdf.age).size())\n",
    "readmitsagedf = readmitsagedf.reset_index()\n",
    "readmitsagedf.columns = ['age group', 'freq']\n",
    "\n",
    "agedf = pd.DataFrame(df.groupby(df.age).size())\n",
    "agedf = agedf.reset_index()\n",
    "agedf.columns = ['age group', 'freq']\n",
    "\n",
    "# fig,ax = plt.subplots(1, figsize=(12,5))\n",
    "# ax.set_title('Frequency of Readmits in Age Groups')\n",
    "# ax.bar(agedf['age group'], agedf.freq, color='green')\n",
    "# ax.bar(readmitsagedf['age group'], readmitsagedf.freq, color='blue')\n",
    "# ax.set_ylabel('Frequency',fontsize=15)\n",
    "# ax.set_xlabel('Age Groups', fontsize=15)\n",
    "# ax.set_xticks(range(len(agedf)))\n",
    "# ax.set_xticklabels(agedf['age group'])\n",
    "# plt.tight_layout()\n",
    "# plt.savefig('/Users/claudiostaub/galvanize/capstones/Predicting_Hospital_Readmissions/img/readmitsbyage.png')"
   ]
  },
  {
   "cell_type": "code",
   "execution_count": 61,
   "metadata": {},
   "outputs": [
    {
     "data": {
      "text/html": [
       "<div>\n",
       "<style scoped>\n",
       "    .dataframe tbody tr th:only-of-type {\n",
       "        vertical-align: middle;\n",
       "    }\n",
       "\n",
       "    .dataframe tbody tr th {\n",
       "        vertical-align: top;\n",
       "    }\n",
       "\n",
       "    .dataframe thead th {\n",
       "        text-align: right;\n",
       "    }\n",
       "</style>\n",
       "<table border=\"1\" class=\"dataframe\">\n",
       "  <thead>\n",
       "    <tr style=\"text-align: right;\">\n",
       "      <th></th>\n",
       "      <th>age group</th>\n",
       "      <th>freq</th>\n",
       "    </tr>\n",
       "  </thead>\n",
       "  <tbody>\n",
       "    <tr>\n",
       "      <th>0</th>\n",
       "      <td>5</td>\n",
       "      <td>150</td>\n",
       "    </tr>\n",
       "    <tr>\n",
       "      <th>1</th>\n",
       "      <td>15</td>\n",
       "      <td>665</td>\n",
       "    </tr>\n",
       "    <tr>\n",
       "      <th>2</th>\n",
       "      <td>25</td>\n",
       "      <td>1595</td>\n",
       "    </tr>\n",
       "    <tr>\n",
       "      <th>3</th>\n",
       "      <td>35</td>\n",
       "      <td>3602</td>\n",
       "    </tr>\n",
       "    <tr>\n",
       "      <th>4</th>\n",
       "      <td>45</td>\n",
       "      <td>9114</td>\n",
       "    </tr>\n",
       "  </tbody>\n",
       "</table>\n",
       "</div>"
      ],
      "text/plain": [
       "   age group  freq\n",
       "0          5   150\n",
       "1         15   665\n",
       "2         25  1595\n",
       "3         35  3602\n",
       "4         45  9114"
      ]
     },
     "execution_count": 61,
     "metadata": {},
     "output_type": "execute_result"
    }
   ],
   "source": [
    "agedf.head()"
   ]
  },
  {
   "cell_type": "code",
   "execution_count": 67,
   "metadata": {},
   "outputs": [],
   "source": [
    "# readmit = readmitsdf['age']\n",
    "# nonreadmit = negdf['age']\n",
    "# bins = np.linspace(-5,100, 10)\n",
    "# plt.hist(readmit, bins, alpha=0.9, label='readmitted')\n",
    "# plt.hist(nonreadmit, bins, alpha=0.3, label='not readmitted')\n",
    "# plt.legend(loc='upper right')\n",
    "# plt.yscale('symlog')\n",
    "# plt.xlabel('Age')\n",
    "# plt.ylabel('frequency')\n",
    "# plt.title('Frequency of Age')\n",
    "# plt.show()\n",
    "# plt.savefig('img/readmitsbyage.png')"
   ]
  },
  {
   "cell_type": "code",
   "execution_count": 74,
   "metadata": {},
   "outputs": [
    {
     "data": {
      "image/png": "[encoded data removed]",
      "text/plain": [
       "<Figure size 576x432 with 1 Axes>"
      ]
     },
     "metadata": {
      "needs_background": "light"
     },
     "output_type": "display_data"
    }
   ],
   "source": [
    "readmit = readmitsdf['number_inpatient']\n",
    "nonreadmit = negdf['number_inpatient']\n",
    "bins = np.linspace(0,25)\n",
    "fig,ax = plt.subplots(figsize=(8,6))\n",
    "ax.hist(readmit, bins, alpha=0.9, label='readmitted', edgecolor='black')\n",
    "ax.hist(nonreadmit, bins, alpha=0.3, label='not readmitted',edgecolor='black')\n",
    "ax.legend(loc='upper right')\n",
    "plt.yscale('symlog')\n",
    "plt.xlabel('inpatient visits last year', fontsize=20)\n",
    "plt.ylabel('frequency', fontsize=20)\n",
    "plt.title('Frequency of Inpatient Visits Last Year', fontsize=20)\n",
    "plt.tight_layout()\n",
    "plt.savefig('/Users/claudiostaub/galvanize/capstones/Predicting_Hospital_Readmissions/img/inpatient_visits.png')"
   ]
  },
  {
   "cell_type": "code",
   "execution_count": 82,
   "metadata": {},
   "outputs": [
    {
     "data": {
      "image/png": "[encoded data removed]",
      "text/plain": [
       "<Figure size 576x432 with 1 Axes>"
      ]
     },
     "metadata": {
      "needs_background": "light"
     },
     "output_type": "display_data"
    }
   ],
   "source": [
    "readmit = readmitsdf['time_in_hospital']\n",
    "nonreadmit = negdf['time_in_hospital']\n",
    "bins = np.linspace(0,25)\n",
    "fig,ax = plt.subplots(figsize=(8,6))\n",
    "ax.hist(readmit, bins, alpha=0.9, label='readmitted', edgecolor='black')\n",
    "ax.hist(nonreadmit, bins, alpha=0.3, label='not readmitted',edgecolor='black')\n",
    "ax.legend(loc='upper right')\n",
    "# plt.yscale('symlog')\n",
    "plt.xlabel('days in hospital',fontsize=20)\n",
    "plt.ylabel('frequency', fontsize=20)\n",
    "plt.title('Frequency of Days in Hospital', fontsize=20)\n",
    "plt.tight_layout()\n",
    "plt.savefig('/Users/claudiostaub/galvanize/capstones/Predicting_Hospital_Readmissions/img/hospital_days.png')"
   ]
  },
  {
   "cell_type": "code",
   "execution_count": 85,
   "metadata": {},
   "outputs": [
    {
     "data": {
      "image/png": "[encoded data removed]",
      "text/plain": [
       "<Figure size 576x432 with 1 Axes>"
      ]
     },
     "metadata": {
      "needs_background": "light"
     },
     "output_type": "display_data"
    }
   ],
   "source": [
    "readmit = readmitsdf['num_lab_procedures']\n",
    "nonreadmit = negdf['num_lab_procedures']\n",
    "bins = np.linspace(-5,150,80)\n",
    "fig,ax = plt.subplots(figsize=(8,6))\n",
    "ax.hist(readmit, bins, alpha=0.9, label='readmitted', edgecolor='black')\n",
    "ax.hist(nonreadmit, bins, alpha=0.3, label='not readmitted',edgecolor='black')\n",
    "ax.legend(loc='upper right')\n",
    "# plt.yscale('symlog')\n",
    "plt.xlabel('# of lab procedures', fontsize=20)\n",
    "plt.ylabel('frequency', fontsize=20)\n",
    "plt.title('Frequency of Lab Procedures During Encounter', fontsize=20)\n",
    "plt.savefig('/Users/claudiostaub/galvanize/capstones/Predicting_Hospital_Readmissions/img/lab_procedures.png')\n",
    "plt.tight_layout()"
   ]
  },
  {
   "cell_type": "code",
   "execution_count": 93,
   "metadata": {},
   "outputs": [
    {
     "data": {
      "image/png": "[encoded data removed]",
      "text/plain": [
       "<Figure size 576x432 with 1 Axes>"
      ]
     },
     "metadata": {
      "needs_background": "light"
     },
     "output_type": "display_data"
    }
   ],
   "source": [
    "readmit = readmitsdf['num_procedures']\n",
    "nonreadmit = negdf['num_procedures']\n",
    "bins = np.linspace(0,10,100)\n",
    "fig,ax = plt.subplots(figsize=(8,6))\n",
    "ax.hist(readmit, bins, alpha=0.9, label='readmitted', edgecolor='black')\n",
    "ax.hist(nonreadmit, bins, alpha=0.3, label='not readmitted',edgecolor='black')\n",
    "ax.legend(loc='upper right')\n",
    "plt.yscale('symlog')\n",
    "plt.xlabel('# of procedures',fontsize=20)\n",
    "plt.ylabel('frequency',fontsize=20)\n",
    "plt.title('Frequency of Procedures During Encounter',fontsize=20)\n",
    "plt.savefig('/Users/claudiostaub/galvanize/capstones/Predicting_Hospital_Readmissions/img/procedures.png')\n",
    "plt.tight_layout()"
   ]
  },
  {
   "cell_type": "code",
   "execution_count": 95,
   "metadata": {},
   "outputs": [
    {
     "data": {
      "image/png": "[encoded data removed]",
      "text/plain": [
       "<Figure size 576x432 with 1 Axes>"
      ]
     },
     "metadata": {
      "needs_background": "light"
     },
     "output_type": "display_data"
    }
   ],
   "source": [
    "readmit = readmitsdf['num_medications']\n",
    "nonreadmit = negdf['num_medications']\n",
    "bins = np.linspace(-5,100, 105)\n",
    "fig,ax = plt.subplots(figsize=(8,6))\n",
    "ax.hist(readmit, bins, alpha=0.9, label='readmitted', edgecolor='black')\n",
    "ax.hist(nonreadmit, bins, alpha=0.3, label='not readmitted',edgecolor='black')\n",
    "ax.legend(loc='upper right')\n",
    "# plt.yscale('symlog')\n",
    "plt.xlabel('# of medications', fontsize=20)\n",
    "plt.ylabel('frequency', fontsize=20)\n",
    "plt.title('Frequency of Medications Administered During Encounter', fontsize=20)\n",
    "plt.savefig('/Users/claudiostaub/galvanize/capstones/Predicting_Hospital_Readmissions/img/num_meds.png')\n",
    "plt.tight_layout()"
   ]
  },
  {
   "cell_type": "code",
   "execution_count": 101,
   "metadata": {},
   "outputs": [
    {
     "data": {
      "image/png": "[encoded data removed]",
      "text/plain": [
       "<Figure size 576x432 with 1 Axes>"
      ]
     },
     "metadata": {
      "needs_background": "light"
     },
     "output_type": "display_data"
    }
   ],
   "source": [
    "readmit = readmitsdf['number_outpatient']\n",
    "nonreadmit = negdf['number_outpatient']\n",
    "bins = np.linspace(-5,50,50)\n",
    "fig,ax = plt.subplots(figsize=(8,6))\n",
    "ax.hist(readmit, bins, alpha=0.9, label='readmitted', edgecolor='black')\n",
    "ax.hist(nonreadmit, bins, alpha=0.3, label='not readmitted',edgecolor='black')\n",
    "ax.legend(loc='upper right')\n",
    "plt.yscale('symlog')\n",
    "plt.xlabel('outpatient visits last year', fontsize=20)\n",
    "plt.ylabel('frequency', fontsize=20)\n",
    "plt.title('Frequency Outpatient Visits Last Year', fontsize=20)\n",
    "plt.savefig('/Users/claudiostaub/galvanize/capstones/Predicting_Hospital_Readmissions/img/outpatient.png')\n",
    "plt.tight_layout()"
   ]
  },
  {
   "cell_type": "code",
   "execution_count": 103,
   "metadata": {},
   "outputs": [
    {
     "data": {
      "image/png": "[encoded data removed]",
      "text/plain": [
       "<Figure size 576x432 with 1 Axes>"
      ]
     },
     "metadata": {
      "needs_background": "light"
     },
     "output_type": "display_data"
    }
   ],
   "source": [
    "readmit = readmitsdf['number_emergency']\n",
    "nonreadmit = negdf['number_emergency']\n",
    "bins = np.linspace(-5,50,50)\n",
    "fig,ax = plt.subplots(figsize=(8,6))\n",
    "ax.hist(readmit, bins, alpha=0.9, label='readmitted', edgecolor='black')\n",
    "ax.hist(nonreadmit, bins, alpha=0.3, label='not readmitted',edgecolor='black')\n",
    "ax.legend(loc='upper right')\n",
    "plt.yscale('symlog')\n",
    "plt.xlabel('ER visits last year', fontsize=20)\n",
    "plt.ylabel('frequency', fontsize=20)\n",
    "plt.title('Frequency of ER Visits Last Year', fontsize=20)\n",
    "plt.savefig('/Users/claudiostaub/galvanize/capstones/Predicting_Hospital_Readmissions/img/ER.png')\n",
    "plt.tight_layout()"
   ]
  },
  {
   "cell_type": "code",
   "execution_count": 75,
   "metadata": {},
   "outputs": [],
   "source": [
    "# readmit = readmitsdf['age'].replace({'[0-10)':5, '[10-20)':15, '[20-30)':25, '[30-40)':35, '[40-50)':45, '[50-60)':55, \n",
    "#                   '[60-70)':65, '[70-80)':75, '[80-90)':85, '[90-100)':95})\n",
    "# nonreadmit = negdf['age'].replace({'[0-10)':5, '[10-20)':15, '[20-30)':25, '[30-40)':35, '[40-50)':45, '[50-60)':55, \n",
    "#                   '[60-70)':65, '[70-80)':75, '[80-90)':85, '[90-100)':95})\n",
    "# bins = np.linspace(-5,100,50)\n",
    "# plt.hist(readmit, bins, alpha=0.9, label='readmitted')\n",
    "# plt.hist(nonreadmit, bins, alpha=0.3, label='not readmitted')\n",
    "# plt.legend(loc='upper right')\n",
    "# # plt.yscale('symlog')\n",
    "# plt.show()"
   ]
  },
  {
   "cell_type": "code",
   "execution_count": 76,
   "metadata": {},
   "outputs": [],
   "source": [
    "# readmitsa1cdf = pd.DataFrame(readmitsdf.groupby(readmitsdf.A1Cresult).size())\n",
    "# readmitsa1cdf = readmitsa1cdf.reset_index()\n",
    "# readmitsa1cdf.columns = ['A1C groups', 'freq']\n",
    "# readmitsa1cdf.head()\n",
    "# a1cdf = pd.DataFrame(df.groupby(df.A1Cresult).size())\n",
    "# a1cdf = a1cdf.reset_index()\n",
    "# a1cdf.columns = ['A1C groups', 'freq']\n",
    "\n",
    "# fig,ax = plt.subplots(1, figsize=(12,5))\n",
    "# ax.set_title('Frequency of Readmits in A1C level Groups')\n",
    "# ax.bar(a1cdf[~a1cdf['A1C groups'].isin([None])], a1cdf.freq, color='green')\n",
    "# ax.bar(readmitsa1cdf[~readmitsa1cdf['A1C groups'].isin([None])], readmitsa1cdf.freq, color='blue')\n",
    "# ax.set_ylabel('Frequency',fontsize=15)\n",
    "# ax.set_xlabel('A1C Groups', fontsize=15)\n",
    "# ax.set_xticks(range(len(a1cdf)))\n",
    "# ax.set_xticklabels(a1cdf['A1C groups'])\n",
    "# plt.tight_layout()\n"
   ]
  },
  {
   "cell_type": "code",
   "execution_count": 77,
   "metadata": {},
   "outputs": [
    {
     "data": {
      "text/plain": [
       "[]"
      ]
     },
     "execution_count": 77,
     "metadata": {},
     "output_type": "execute_result"
    }
   ],
   "source": [
    "missing_data(df, 5)"
   ]
  },
  {
   "cell_type": "markdown",
   "metadata": {},
   "source": [
    "It would be interesting to evaluate patients that had more than one encounter to see if we can glean any more information from these individuals "
   ]
  },
  {
   "cell_type": "markdown",
   "metadata": {},
   "source": [
    "## Hypothesis Testing\n",
    "\n",
    "\n",
    "Since the columns in this dataset are largely categorical variables, we want to test some of these for indepence. \n",
    "\n",
    "As there are various mechanisms of action by which diabetes medication can treat the disease, there are many medications on the market. This can be seen by the 23 various diabetes medications that are included in this data set. Finding the optimal medication for each patient can often be an exercise of trial and error. Adverse side-effects secondary to a medication change often result in hospitalization as patients need to be monitored with serial blood glucose tests. \n",
    "\n",
    "I'd like to test the change in medication column and the readmission column for independence. Since these both only contain two possible values, this would be a fairly straight forward X^2 test"
   ]
  },
  {
   "cell_type": "markdown",
   "metadata": {},
   "source": [
    "#### State Null and Alternative Hypothesis"
   ]
  },
  {
   "cell_type": "markdown",
   "metadata": {},
   "source": [
    ">$H_0$:Change in Medicine and Readmission are independent variables\n",
    "\n",
    ">$H_A$:They are not independent"
   ]
  },
  {
   "cell_type": "markdown",
   "metadata": {},
   "source": [
    "#### Assumptions\n",
    "\n",
    "- When testing the data, the cells should be counts of cases and not percentages. It is okay to convert to percentages after testing the data\n",
    "- The levels (groups) of the variables being tested are mutually exclusive\n",
    "- Each participant contributes to only one cell within the Chi-square table\n",
    "- The groups being tested must be independent\n",
    "- The value of expected cells should be greater than 5 for at least 20% of the cells\n",
    "\n",
    "Taken from [this](https://pythonfordatascience.org/chi-square-test-of-independence-python/) medium article"
   ]
  },
  {
   "cell_type": "markdown",
   "metadata": {},
   "source": [
    "#### Assemble the Contingency Table"
   ]
  },
  {
   "cell_type": "code",
   "execution_count": 80,
   "metadata": {},
   "outputs": [
    {
     "data": {
      "text/html": [
       "<div>\n",
       "<style scoped>\n",
       "    .dataframe tbody tr th:only-of-type {\n",
       "        vertical-align: middle;\n",
       "    }\n",
       "\n",
       "    .dataframe tbody tr th {\n",
       "        vertical-align: top;\n",
       "    }\n",
       "\n",
       "    .dataframe thead th {\n",
       "        text-align: right;\n",
       "    }\n",
       "</style>\n",
       "<table border=\"1\" class=\"dataframe\">\n",
       "  <thead>\n",
       "    <tr style=\"text-align: right;\">\n",
       "      <th>readmit</th>\n",
       "      <th>False</th>\n",
       "      <th>True</th>\n",
       "    </tr>\n",
       "    <tr>\n",
       "      <th>change</th>\n",
       "      <th></th>\n",
       "      <th></th>\n",
       "    </tr>\n",
       "  </thead>\n",
       "  <tbody>\n",
       "    <tr>\n",
       "      <th>False</th>\n",
       "      <td>44667</td>\n",
       "      <td>5388</td>\n",
       "    </tr>\n",
       "    <tr>\n",
       "      <th>True</th>\n",
       "      <td>39233</td>\n",
       "      <td>5375</td>\n",
       "    </tr>\n",
       "  </tbody>\n",
       "</table>\n",
       "</div>"
      ],
      "text/plain": [
       "readmit  False  True\n",
       "change              \n",
       "False    44667  5388\n",
       "True     39233  5375"
      ]
     },
     "execution_count": 80,
     "metadata": {},
     "output_type": "execute_result"
    }
   ],
   "source": [
    "crosstab = pd.crosstab(df['change'],df['readmit'])\n",
    "crosstab"
   ]
  },
  {
   "cell_type": "markdown",
   "metadata": {},
   "source": [
    "#### Decide how Suprised You Need to Be to Reject Your Skeptical Assumption\n",
    "\n",
    "Let's set the rejection threshold pretty stringently: $\\alpha = 0.03$."
   ]
  },
  {
   "cell_type": "markdown",
   "metadata": {},
   "source": [
    "#### Compute the Test Statistic\n",
    "\n",
    "\n",
    "The first step in the Chi Squared test is to compute the following test statistic:\n",
    "\n",
    "$$ T = \\sum_i \\frac{(O_i - E_i)^2}{E_i} $$"
   ]
  },
  {
   "cell_type": "code",
   "execution_count": 81,
   "metadata": {},
   "outputs": [
    {
     "data": {
      "text/plain": [
       "(38.53770127098957,\n",
       " 5.370613641023194e-10,\n",
       " 1,\n",
       " array([[44363.84331787,  5691.15668213],\n",
       "        [39536.15668213,  5071.84331787]]))"
      ]
     },
     "execution_count": 81,
     "metadata": {},
     "output_type": "execute_result"
    }
   ],
   "source": [
    "stats.chi2_contingency(crosstab)"
   ]
  },
  {
   "cell_type": "markdown",
   "metadata": {},
   "source": [
    "The logic of the Chi Squared test is that this quantity follows a certain distribution, the chi squared distribution."
   ]
  },
  {
   "cell_type": "code",
   "execution_count": 82,
   "metadata": {},
   "outputs": [
    {
     "data": {
      "text/plain": [
       "<matplotlib.legend.Legend at 0x1a181aeb70>"
      ]
     },
     "execution_count": 82,
     "metadata": {},
     "output_type": "execute_result"
    },
    {
     "data": {
      "image/png": "[encoded data removed]",
      "text/plain": [
       "<Figure size 1152x216 with 1 Axes>"
      ]
     },
     "metadata": {},
     "output_type": "display_data"
    }
   ],
   "source": [
    "degfree = 1\n",
    "x = np.linspace(0,10, num=250)\n",
    "\n",
    "fig, ax = plt.subplots(1, figsize=(16,3))\n",
    "\n",
    "chisq = stats.chi2(degfree)\n",
    "\n",
    "ax.plot(x, chisq.pdf(x), linewidth=4,\n",
    "       label = 'Degrees of Freedom = 1')\n",
    "ax.set_ylim(0,2)\n",
    "ax.legend()"
   ]
  },
  {
   "cell_type": "markdown",
   "metadata": {},
   "source": [
    "The 2-way Chi squared test provides the degrees of freedom as:\n",
    "    \n",
    "$$ \\text{(Number of rows - 1)} * \\text{(Number of columns - 1)} $$\n",
    "\n",
    "The plot above shows the PDF for a Chi-Square distribution with 1 degree of freedom\n",
    "\n",
    "With a Chi Square test score of 39.02, we can appreciate a very small p-value as the test shows. "
   ]
  },
  {
   "cell_type": "code",
   "execution_count": 83,
   "metadata": {},
   "outputs": [
    {
     "data": {
      "text/html": [
       "<div>\n",
       "<style scoped>\n",
       "    .dataframe tbody tr th:only-of-type {\n",
       "        vertical-align: middle;\n",
       "    }\n",
       "\n",
       "    .dataframe tbody tr th {\n",
       "        vertical-align: top;\n",
       "    }\n",
       "\n",
       "    .dataframe thead tr th {\n",
       "        text-align: left;\n",
       "    }\n",
       "\n",
       "    .dataframe thead tr:last-of-type th {\n",
       "        text-align: right;\n",
       "    }\n",
       "</style>\n",
       "<table border=\"1\" class=\"dataframe\">\n",
       "  <thead>\n",
       "    <tr>\n",
       "      <th></th>\n",
       "      <th colspan=\"3\" halign=\"left\">readmit</th>\n",
       "    </tr>\n",
       "    <tr>\n",
       "      <th></th>\n",
       "      <th>False</th>\n",
       "      <th>True</th>\n",
       "      <th>All</th>\n",
       "    </tr>\n",
       "    <tr>\n",
       "      <th>change</th>\n",
       "      <th></th>\n",
       "      <th></th>\n",
       "      <th></th>\n",
       "    </tr>\n",
       "  </thead>\n",
       "  <tbody>\n",
       "    <tr>\n",
       "      <th>False</th>\n",
       "      <td>53.24</td>\n",
       "      <td>50.06</td>\n",
       "      <td>52.88</td>\n",
       "    </tr>\n",
       "    <tr>\n",
       "      <th>True</th>\n",
       "      <td>46.76</td>\n",
       "      <td>49.94</td>\n",
       "      <td>47.12</td>\n",
       "    </tr>\n",
       "    <tr>\n",
       "      <th>All</th>\n",
       "      <td>100.00</td>\n",
       "      <td>100.00</td>\n",
       "      <td>100.00</td>\n",
       "    </tr>\n",
       "  </tbody>\n",
       "</table>\n",
       "</div>"
      ],
      "text/plain": [
       "       readmit                \n",
       "         False    True     All\n",
       "change                        \n",
       "False    53.24   50.06   52.88\n",
       "True     46.76   49.94   47.12\n",
       "All     100.00  100.00  100.00"
      ]
     },
     "execution_count": 83,
     "metadata": {},
     "output_type": "execute_result"
    }
   ],
   "source": [
    "table, results = rp.crosstab(df['change'],df['readmit'],prop='col', test='chi-square')\n",
    "table"
   ]
  },
  {
   "cell_type": "code",
   "execution_count": 84,
   "metadata": {},
   "outputs": [
    {
     "data": {
      "text/html": [
       "<div>\n",
       "<style scoped>\n",
       "    .dataframe tbody tr th:only-of-type {\n",
       "        vertical-align: middle;\n",
       "    }\n",
       "\n",
       "    .dataframe tbody tr th {\n",
       "        vertical-align: top;\n",
       "    }\n",
       "\n",
       "    .dataframe thead th {\n",
       "        text-align: right;\n",
       "    }\n",
       "</style>\n",
       "<table border=\"1\" class=\"dataframe\">\n",
       "  <thead>\n",
       "    <tr style=\"text-align: right;\">\n",
       "      <th></th>\n",
       "      <th>Chi-square test</th>\n",
       "      <th>results</th>\n",
       "    </tr>\n",
       "  </thead>\n",
       "  <tbody>\n",
       "    <tr>\n",
       "      <th>0</th>\n",
       "      <td>Pearson Chi-square ( 1.0) =</td>\n",
       "      <td>38.6651</td>\n",
       "    </tr>\n",
       "    <tr>\n",
       "      <th>1</th>\n",
       "      <td>p-value =</td>\n",
       "      <td>0.0000</td>\n",
       "    </tr>\n",
       "    <tr>\n",
       "      <th>2</th>\n",
       "      <td>Cramer's phi =</td>\n",
       "      <td>0.0202</td>\n",
       "    </tr>\n",
       "  </tbody>\n",
       "</table>\n",
       "</div>"
      ],
      "text/plain": [
       "                Chi-square test  results\n",
       "0  Pearson Chi-square ( 1.0) =   38.6651\n",
       "1                    p-value =    0.0000\n",
       "2               Cramer's phi =    0.0202"
      ]
     },
     "execution_count": 84,
     "metadata": {},
     "output_type": "execute_result"
    }
   ],
   "source": [
    "results"
   ]
  },
  {
   "cell_type": "markdown",
   "metadata": {},
   "source": [
    "Since we will be repeating this test for several variables, we will write a function"
   ]
  },
  {
   "cell_type": "code",
   "execution_count": 89,
   "metadata": {},
   "outputs": [],
   "source": [
    "cat_cols = get_cat_cols(df)"
   ]
  },
  {
   "cell_type": "code",
   "execution_count": 92,
   "metadata": {},
   "outputs": [
    {
     "data": {
      "text/plain": [
       "[['column_name', 'X^2_score', 'p-value', 'df'],\n",
       " ['race', 8.990685639101484, 0.061332717791619695, 4],\n",
       " ['gender', 0.5727291615170994, 0.7509887699750135, 2],\n",
       " ['max_glu_serum', 16.187941724113216, 0.0010376806240187278, 3],\n",
       " ['A1Cresult', 46.168682548864396, 5.22192103313535e-10, 3],\n",
       " ['metformin', 64.18172844952696, 7.50543148711194e-14, 3],\n",
       " ['repaglinide', 10.70605536229815, 0.013426316399857658, 3],\n",
       " ['nateglinide', 1.4177609360492096, 0.701376801273325, 3],\n",
       " ['chlorpropamide', 2.752475257183986, 0.4313832042589504, 3],\n",
       " ['glimepiride', 9.115001972377685, 0.027800310654517987, 3],\n",
       " ['acetohexamide', 1.4808926565523863, 0.22363491012275455, 1],\n",
       " ['glipizide', 10.798229180179343, 0.012868491279489858, 3],\n",
       " ['glyburide', 6.478330616403207, 0.09052101944499943, 3],\n",
       " ['tolbutamide', 0.37242170198732605, 0.5416871832479594, 1],\n",
       " ['pioglitazone', 10.981650066696593, 0.011825515552231257, 3],\n",
       " ['rosiglitazone', 6.916480855054773, 0.07460799498060645, 3],\n",
       " ['acarbose', 2.642326662572078, 0.450117408319443, 3],\n",
       " ['miglitol', 6.129631816989414, 0.10547089016431577, 3],\n",
       " ['troglitazone', 0.36872996776551775, 0.5436973596325323, 1],\n",
       " ['tolazamide', 0.21756183485779437, 0.640903990658733, 1],\n",
       " ['insulin', 193.9821393655337, 8.420858193928394e-42, 3],\n",
       " ['glyburide-metformin', 1.2021078967607572, 0.7524987954521024, 3],\n",
       " ['glipizide-metformin', 0.00036700034072590374, 0.9847156585397808, 1],\n",
       " ['glimepiride-pioglitazone', 1.4808926565523863, 0.22363491012275455, 1],\n",
       " ['metformin-rosiglitazone', 0.36872996776551775, 0.5436973596325323, 1],\n",
       " ['metformin-pioglitazone', 1.4808926565523863, 0.22363491012275455, 1],\n",
       " ['change', 38.53770127098957, 5.370613641023194e-10, 1],\n",
       " ['diabetesMed', 61.993369480837444, 3.4461572915914066e-15, 1],\n",
       " ['readmit', 94653.07675201911, 0.0, 1]]"
      ]
     },
     "execution_count": 92,
     "metadata": {},
     "output_type": "execute_result"
    }
   ],
   "source": [
    "chisq(cat_cols)"
   ]
  },
  {
   "cell_type": "markdown",
   "metadata": {},
   "source": [
    "#### Results\n",
    "\n",
    "Based on these test results, we can reject the $H_0$ and conclude that hospital readmissions have a very weak dependence on changes in medicine. "
   ]
  },
  {
   "cell_type": "code",
   "execution_count": 93,
   "metadata": {},
   "outputs": [
    {
     "data": {
      "text/plain": [
       "(38.53770127098957, 5.370613641023194e-10, 1)"
      ]
     },
     "execution_count": 93,
     "metadata": {},
     "output_type": "execute_result"
    }
   ],
   "source": [
    "stats.chi2_contingency(crosstab)[:3]"
   ]
  },
  {
   "cell_type": "code",
   "execution_count": null,
   "metadata": {},
   "outputs": [],
   "source": []
  }
 ],
 "metadata": {
  "kernelspec": {
   "display_name": "Python 3",
   "language": "python",
   "name": "python3"
  },
  "language_info": {
   "codemirror_mode": {
    "name": "ipython",
    "version": 3
   },
   "file_extension": ".py",
   "mimetype": "text/x-python",
   "name": "python",
   "nbconvert_exporter": "python",
   "pygments_lexer": "ipython3",
   "version": "3.7.3"
  }
 },
 "nbformat": 4,
 "nbformat_minor": 2
}
